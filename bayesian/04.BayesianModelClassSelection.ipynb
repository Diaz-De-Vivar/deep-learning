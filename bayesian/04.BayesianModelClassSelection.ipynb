{
 "cells": [
  {
   "cell_type": "markdown",
   "id": "f644cf59",
   "metadata": {},
   "source": []
  }
 ],
 "metadata": {
  "kernelspec": {
   "display_name": "deep_learning",
   "language": "python",
   "name": "python3"
  },
  "language_info": {
   "name": "python",
   "version": "3.9.7"
  }
 },
 "nbformat": 4,
 "nbformat_minor": 5
}
