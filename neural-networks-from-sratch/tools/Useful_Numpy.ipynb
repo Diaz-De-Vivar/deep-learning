{
 "cells": [
  {
   "cell_type": "markdown",
   "id": "634905e0",
   "metadata": {},
   "source": [
    "## Useful Numpy\n",
    "\n",
    "Just useful numpy code"
   ]
  },
  {
   "cell_type": "code",
   "execution_count": 1,
   "id": "8bea7241",
   "metadata": {},
   "outputs": [],
   "source": [
    "import numpy as np"
   ]
  },
  {
   "cell_type": "markdown",
   "id": "1c3381fe",
   "metadata": {
    "vscode": {
     "languageId": "plaintext"
    }
   },
   "source": [
    "### Convert array of indices to One-Hot encoded NumPy array"
   ]
  },
  {
   "cell_type": "code",
   "execution_count": 8,
   "id": "b09a3a5f",
   "metadata": {},
   "outputs": [],
   "source": [
    "a = np.array([1,0,3]) # Sample 1 (a[0]) is class=2, sample 2 (a[1]) is class=0 and sample 3 (a[2]) is class=3\n",
    "\n",
    "# b = array([[0,1,0,0], [1,0,0,0], [0,0,0,1]])"
   ]
  },
  {
   "cell_type": "code",
   "execution_count": 3,
   "id": "de1e6803",
   "metadata": {},
   "outputs": [
    {
     "data": {
      "text/plain": [
       "array([[0., 0., 0., 0.],\n",
       "       [0., 0., 0., 0.],\n",
       "       [0., 0., 0., 0.]])"
      ]
     },
     "execution_count": 3,
     "metadata": {},
     "output_type": "execute_result"
    }
   ],
   "source": [
    "b = np.zeros((a.size, a.max() + 1))\n",
    "b"
   ]
  },
  {
   "cell_type": "markdown",
   "id": "12ae4465",
   "metadata": {},
   "source": [
    "Use of advanced numpy indexing. Instead of regular slicing, you can select just one column per row, so that you can assign values to just one column per row (the columns that matches the classes in \"a\")"
   ]
  },
  {
   "cell_type": "code",
   "execution_count": 7,
   "id": "b2ca540f",
   "metadata": {},
   "outputs": [
    {
     "name": "stdout",
     "output_type": "stream",
     "text": [
      "3 3\n"
     ]
    },
    {
     "data": {
      "text/plain": [
       "array([[0., 1., 0., 0.],\n",
       "       [1., 0., 0., 0.],\n",
       "       [0., 0., 0., 1.]])"
      ]
     },
     "execution_count": 7,
     "metadata": {},
     "output_type": "execute_result"
    }
   ],
   "source": [
    "print(a.size, len(a))\n",
    "b[np.arange(a.size), a] = 1\n",
    "b"
   ]
  },
  {
   "cell_type": "code",
   "execution_count": 12,
   "id": "d44f4225",
   "metadata": {},
   "outputs": [
    {
     "data": {
      "text/plain": [
       "(numpy.ndarray, numpy.ndarray)"
      ]
     },
     "execution_count": 12,
     "metadata": {},
     "output_type": "execute_result"
    }
   ],
   "source": [
    "type(a), type(b)"
   ]
  },
  {
   "cell_type": "markdown",
   "id": "01ebdaef",
   "metadata": {},
   "source": [
    "### Convert pandas dataframde to numpy array"
   ]
  },
  {
   "cell_type": "code",
   "execution_count": 14,
   "id": "a728f3d2",
   "metadata": {},
   "outputs": [
    {
     "data": {
      "application/vnd.microsoft.datawrangler.viewer.v0+json": {
       "columns": [
        {
         "name": "ID",
         "rawType": "int64",
         "type": "integer"
        },
        {
         "name": "A",
         "rawType": "float64",
         "type": "float"
        },
        {
         "name": "B",
         "rawType": "float64",
         "type": "float"
        },
        {
         "name": "C",
         "rawType": "float64",
         "type": "float"
        }
       ],
       "conversionMethod": "pd.DataFrame",
       "ref": "00278a81-e75d-4067-ba1a-02f49c9f1889",
       "rows": [
        [
         "1",
         null,
         "0.2",
         null
        ],
        [
         "2",
         null,
         null,
         "0.5"
        ],
        [
         "3",
         null,
         "0.2",
         "0.5"
        ],
        [
         "4",
         "0.1",
         "0.2",
         null
        ],
        [
         "5",
         "0.1",
         "0.2",
         "0.5"
        ],
        [
         "6",
         "0.1",
         null,
         "0.5"
        ],
        [
         "7",
         "0.1",
         null,
         null
        ]
       ],
       "shape": {
        "columns": 3,
        "rows": 7
       }
      },
      "text/html": [
       "<div>\n",
       "<style scoped>\n",
       "    .dataframe tbody tr th:only-of-type {\n",
       "        vertical-align: middle;\n",
       "    }\n",
       "\n",
       "    .dataframe tbody tr th {\n",
       "        vertical-align: top;\n",
       "    }\n",
       "\n",
       "    .dataframe thead th {\n",
       "        text-align: right;\n",
       "    }\n",
       "</style>\n",
       "<table border=\"1\" class=\"dataframe\">\n",
       "  <thead>\n",
       "    <tr style=\"text-align: right;\">\n",
       "      <th></th>\n",
       "      <th>A</th>\n",
       "      <th>B</th>\n",
       "      <th>C</th>\n",
       "    </tr>\n",
       "    <tr>\n",
       "      <th>ID</th>\n",
       "      <th></th>\n",
       "      <th></th>\n",
       "      <th></th>\n",
       "    </tr>\n",
       "  </thead>\n",
       "  <tbody>\n",
       "    <tr>\n",
       "      <th>1</th>\n",
       "      <td>NaN</td>\n",
       "      <td>0.2</td>\n",
       "      <td>NaN</td>\n",
       "    </tr>\n",
       "    <tr>\n",
       "      <th>2</th>\n",
       "      <td>NaN</td>\n",
       "      <td>NaN</td>\n",
       "      <td>0.5</td>\n",
       "    </tr>\n",
       "    <tr>\n",
       "      <th>3</th>\n",
       "      <td>NaN</td>\n",
       "      <td>0.2</td>\n",
       "      <td>0.5</td>\n",
       "    </tr>\n",
       "    <tr>\n",
       "      <th>4</th>\n",
       "      <td>0.1</td>\n",
       "      <td>0.2</td>\n",
       "      <td>NaN</td>\n",
       "    </tr>\n",
       "    <tr>\n",
       "      <th>5</th>\n",
       "      <td>0.1</td>\n",
       "      <td>0.2</td>\n",
       "      <td>0.5</td>\n",
       "    </tr>\n",
       "    <tr>\n",
       "      <th>6</th>\n",
       "      <td>0.1</td>\n",
       "      <td>NaN</td>\n",
       "      <td>0.5</td>\n",
       "    </tr>\n",
       "    <tr>\n",
       "      <th>7</th>\n",
       "      <td>0.1</td>\n",
       "      <td>NaN</td>\n",
       "      <td>NaN</td>\n",
       "    </tr>\n",
       "  </tbody>\n",
       "</table>\n",
       "</div>"
      ],
      "text/plain": [
       "      A    B    C\n",
       "ID               \n",
       "1   NaN  0.2  NaN\n",
       "2   NaN  NaN  0.5\n",
       "3   NaN  0.2  0.5\n",
       "4   0.1  0.2  NaN\n",
       "5   0.1  0.2  0.5\n",
       "6   0.1  NaN  0.5\n",
       "7   0.1  NaN  NaN"
      ]
     },
     "execution_count": 14,
     "metadata": {},
     "output_type": "execute_result"
    }
   ],
   "source": [
    "import numpy as np\n",
    "import pandas as pd\n",
    "\n",
    "df = pd.DataFrame(\n",
    "    {\n",
    "        'A': [np.nan, np.nan, np.nan, 0.1, 0.1, 0.1, 0.1],\n",
    "        'B': [0.2, np.nan, 0.2, 0.2, 0.2, np.nan, np.nan],\n",
    "        'C': [np.nan, 0.5, 0.5, np.nan, 0.5, 0.5, np.nan],\n",
    "    },\n",
    "    index=[1, 2, 3, 4, 5, 6, 7],\n",
    ").rename_axis('ID')\n",
    "df"
   ]
  },
  {
   "cell_type": "markdown",
   "id": "e2e037b3",
   "metadata": {},
   "source": [
    "You get the df.to_numpy() method for this"
   ]
  },
  {
   "cell_type": "code",
   "execution_count": 16,
   "id": "740db5cc",
   "metadata": {},
   "outputs": [
    {
     "data": {
      "text/plain": [
       "array([[nan, 0.2, nan],\n",
       "       [nan, nan, 0.5],\n",
       "       [nan, 0.2, 0.5],\n",
       "       [0.1, 0.2, nan],\n",
       "       [0.1, 0.2, 0.5],\n",
       "       [0.1, nan, 0.5],\n",
       "       [0.1, nan, nan]])"
      ]
     },
     "execution_count": 16,
     "metadata": {},
     "output_type": "execute_result"
    }
   ],
   "source": [
    "df.to_numpy()"
   ]
  },
  {
   "cell_type": "markdown",
   "id": "9d576d05",
   "metadata": {},
   "source": [
    "There is not a direct conversion to torch from Pandas"
   ]
  },
  {
   "cell_type": "code",
   "execution_count": 23,
   "id": "bf4ad708",
   "metadata": {},
   "outputs": [
    {
     "data": {
      "text/plain": [
       "tensor([[   nan, 0.2000,    nan],\n",
       "        [   nan,    nan, 0.5000],\n",
       "        [   nan, 0.2000, 0.5000],\n",
       "        [0.1000, 0.2000,    nan],\n",
       "        [0.1000, 0.2000, 0.5000],\n",
       "        [0.1000,    nan, 0.5000],\n",
       "        [0.1000,    nan,    nan]])"
      ]
     },
     "execution_count": 23,
     "metadata": {},
     "output_type": "execute_result"
    }
   ],
   "source": [
    "import torch\n",
    "\n",
    "torch.tensor(df.to_numpy(), dtype=torch.float32)"
   ]
  }
 ],
 "metadata": {
  "kernelspec": {
   "display_name": "deep_learning",
   "language": "python",
   "name": "python3"
  },
  "language_info": {
   "codemirror_mode": {
    "name": "ipython",
    "version": 3
   },
   "file_extension": ".py",
   "mimetype": "text/x-python",
   "name": "python",
   "nbconvert_exporter": "python",
   "pygments_lexer": "ipython3",
   "version": "3.9.7"
  }
 },
 "nbformat": 4,
 "nbformat_minor": 5
}
