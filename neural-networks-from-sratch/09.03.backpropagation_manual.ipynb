{
 "cells": [
  {
   "cell_type": "markdown",
   "id": "c209153f",
   "metadata": {},
   "source": [
    "## Imports and definitions"
   ]
  },
  {
   "cell_type": "code",
   "execution_count": 1,
   "id": "ecb737ce",
   "metadata": {},
   "outputs": [],
   "source": [
    "import numpy as np\n",
    "\n",
    "# --- Activation Functions ---\n",
    "def relu(z):\n",
    "    \"\"\"Element-wise ReLU activation.\"\"\"\n",
    "    return np.maximum(0, z)\n",
    "\n",
    "def relu_derivative(z):\n",
    "    \"\"\"Element-wise derivative of ReLU.\"\"\"\n",
    "    return np.where(z > 0, 1.0, 0.0)\n",
    "\n",
    "def softmax(z):\n",
    "    \"\"\"Softmax activation for a single sample or batch (along axis 1).\"\"\"\n",
    "    # Shift z for numerical stability (subtract max)\n",
    "    shift_z = z - np.max(z, axis=0, keepdims=True)\n",
    "    exps = np.exp(shift_z)\n",
    "    return exps / np.sum(exps, axis=0, keepdims=True)"
   ]
  },
  {
   "cell_type": "markdown",
   "id": "62916a33",
   "metadata": {},
   "source": [
    "### Neural net definition"
   ]
  },
  {
   "cell_type": "code",
   "execution_count": 2,
   "id": "fef2a487",
   "metadata": {},
   "outputs": [],
   "source": [
    "# Use column vectors for biases and inputs\n",
    "W1 = np.array([[0.1, 0.2], [0.3, 0.4], [0.5, 0.6]]) # Shape (3, 2)\n",
    "b1 = np.array([[0.1], [0.1], [0.1]])              # Shape (3, 1)\n",
    "W2 = np.array([[0.7, 0.8, 0.9], [1.0, 1.1, 1.2]]) # Shape (2, 3)\n",
    "b2 = np.array([[0.2], [0.2]])                     # Shape (2, 1)\n",
    "\n",
    "# Store parameters in lists for scalability\n",
    "weights = [W1, W2]\n",
    "biases = [b1, b2]\n",
    "num_layers = len(weights) # L = 2"
   ]
  },
  {
   "cell_type": "markdown",
   "id": "0be80495",
   "metadata": {},
   "source": [
    "### Input + sample target"
   ]
  },
  {
   "cell_type": "code",
   "execution_count": 3,
   "id": "0450b64b",
   "metadata": {},
   "outputs": [],
   "source": [
    "x = np.array([[1.0], [0.5]]) # Shape (2, 1)\n",
    "y = np.array([[0], [1]])     # Shape (2, 1) (one-hot)"
   ]
  },
  {
   "cell_type": "markdown",
   "id": "8ee3b9d5",
   "metadata": {},
   "source": [
    "## Forward pass"
   ]
  },
  {
   "cell_type": "code",
   "execution_count": 5,
   "id": "0a957f37",
   "metadata": {},
   "outputs": [],
   "source": [
    "# --- Forward Pass ---\n",
    "activations = [x] # Store activations, a^0 = x\n",
    "pre_activations = [] # Store z^l\n",
    "\n",
    "a = x\n",
    "for l in range(num_layers):\n",
    "    W = weights[l]\n",
    "    b = biases[l]\n",
    "    z = W @ a + b\n",
    "    pre_activations.append(z)\n",
    "    if l < num_layers - 1: # Hidden layers use ReLU\n",
    "        a = relu(z)\n",
    "    else: # Output layer uses Softmax\n",
    "        a = softmax(z)\n",
    "    activations.append(a)"
   ]
  },
  {
   "cell_type": "code",
   "execution_count": 6,
   "id": "099e39e1",
   "metadata": {},
   "outputs": [
    {
     "data": {
      "text/plain": [
       "[array([[1. ],\n",
       "        [0.5]]),\n",
       " array([[0.3],\n",
       "        [0.6],\n",
       "        [0.9]]),\n",
       " array([[0.36818758],\n",
       "        [0.63181242]])]"
      ]
     },
     "execution_count": 6,
     "metadata": {},
     "output_type": "execute_result"
    }
   ],
   "source": [
    "activations"
   ]
  },
  {
   "cell_type": "markdown",
   "id": "b90eaf71",
   "metadata": {},
   "source": [
    "### Output prediction"
   ]
  },
  {
   "cell_type": "code",
   "execution_count": 7,
   "id": "36748308",
   "metadata": {},
   "outputs": [
    {
     "name": "stdout",
     "output_type": "stream",
     "text": [
      "--- Forward Pass ---\n",
      "z^1:\n",
      "[[0.3]\n",
      " [0.6]\n",
      " [0.9]]\n",
      "a^1:\n",
      "[[0.3]\n",
      " [0.6]\n",
      " [0.9]]\n",
      "z^2:\n",
      "[[1.7 ]\n",
      " [2.24]]\n",
      "a^2 (ŷ):\n",
      "[[0.36818758]\n",
      " [0.63181242]]\n"
     ]
    }
   ],
   "source": [
    "y_hat = activations[-1]\n",
    "print(\"--- Forward Pass ---\")\n",
    "print(f\"z^1:\\n{pre_activations[0]}\")\n",
    "print(f\"a^1:\\n{activations[1]}\")\n",
    "print(f\"z^2:\\n{pre_activations[1]}\")\n",
    "print(f\"a^2 (ŷ):\\n{y_hat}\")"
   ]
  },
  {
   "cell_type": "markdown",
   "id": "4a854849",
   "metadata": {},
   "source": [
    "## Backward Pass"
   ]
  },
  {
   "cell_type": "code",
   "execution_count": 9,
   "id": "822e2a6b",
   "metadata": {},
   "outputs": [],
   "source": [
    "gradients_W = [None] * num_layers\n",
    "gradients_b = [None] * num_layers"
   ]
  },
  {
   "cell_type": "code",
   "execution_count": 10,
   "id": "7d4f70d4",
   "metadata": {},
   "outputs": [
    {
     "name": "stdout",
     "output_type": "stream",
     "text": [
      "\n",
      "--- Backward Pass (Gradients) ---\n",
      "dJ/dW^2 (shape (2, 3)):\n",
      "[[ 0.11045627  0.22091255  0.33136882]\n",
      " [-0.11045627 -0.22091255 -0.33136882]]\n",
      "dJ/db^2 (shape (2, 1)):\n",
      "[[ 0.36818758]\n",
      " [-0.36818758]]\n",
      "dJ/dW^1 (shape (3, 2)):\n",
      "[[-0.11045627 -0.05522814]\n",
      " [-0.11045627 -0.05522814]\n",
      " [-0.11045627 -0.05522814]]\n",
      "dJ/db^1 (shape (3, 1)):\n",
      "[[-0.11045627]\n",
      " [-0.11045627]\n",
      " [-0.11045627]]\n"
     ]
    }
   ],
   "source": [
    "# Calculate delta for the output layer (L)\n",
    "# delta_L = dJ/dz^L = y_hat - y\n",
    "delta = y_hat - y # delta^2 for L=2\n",
    "\n",
    "# Gradient for the last layer\n",
    "gradients_W[-1] = delta @ activations[-2].T # dJ/dW^L = delta^L * (a^(L-1))^T\n",
    "gradients_b[-1] = delta                   # dJ/db^L = delta^L\n",
    "\n",
    "# Iterate backwards from L-1 down to 1\n",
    "for l in range(num_layers - 2, -1, -1):\n",
    "    # Propagate delta backwards: delta^l = (W^(l+1)^T @ delta^(l+1)) .* relu'(z^l)\n",
    "    W_next = weights[l+1]\n",
    "    z_current = pre_activations[l]\n",
    "    delta = (W_next.T @ delta) * relu_derivative(z_current)\n",
    "\n",
    "    # Gradient for current layer l\n",
    "    gradients_W[l] = delta @ activations[l].T # dJ/dW^l = delta^l * (a^(l-1))^T (activations[l] is a^l)\n",
    "    gradients_b[l] = delta                  # dJ/db^l = delta^l\n",
    "\n",
    "print(\"\\n--- Backward Pass (Gradients) ---\")\n",
    "print(f\"dJ/dW^2 (shape {gradients_W[1].shape}):\\n{gradients_W[1]}\")\n",
    "print(f\"dJ/db^2 (shape {gradients_b[1].shape}):\\n{gradients_b[1]}\")\n",
    "print(f\"dJ/dW^1 (shape {gradients_W[0].shape}):\\n{gradients_W[0]}\")\n",
    "print(f\"dJ/db^1 (shape {gradients_b[0].shape}):\\n{gradients_b[0]}\")"
   ]
  },
  {
   "cell_type": "code",
   "execution_count": 11,
   "id": "d6f9ff6b",
   "metadata": {},
   "outputs": [
    {
     "ename": "AssertionError",
     "evalue": "",
     "output_type": "error",
     "traceback": [
      "\u001b[1;31m---------------------------------------------------------------------------\u001b[0m",
      "\u001b[1;31mAssertionError\u001b[0m                            Traceback (most recent call last)",
      "Cell \u001b[1;32mIn[11], line 9\u001b[0m\n\u001b[0;32m      1\u001b[0m \u001b[38;5;66;03m# --- Verification (Compare with manual calculation) ---\u001b[39;00m\n\u001b[0;32m      2\u001b[0m \u001b[38;5;66;03m# Manual results (approx):\u001b[39;00m\n\u001b[0;32m      3\u001b[0m \u001b[38;5;66;03m# dJ/dW^2 ≈ [[0.1104, 0.2208, 0.3312], [-0.1104, -0.2208, -0.3312]]\u001b[39;00m\n\u001b[1;32m   (...)\u001b[0m\n\u001b[0;32m      7\u001b[0m \n\u001b[0;32m      8\u001b[0m \u001b[38;5;66;03m# Check if code results match (allowing for floating point differences)\u001b[39;00m\n\u001b[1;32m----> 9\u001b[0m \u001b[38;5;28;01massert\u001b[39;00m np\u001b[38;5;241m.\u001b[39mallclose(gradients_W[\u001b[38;5;241m1\u001b[39m], [[\u001b[38;5;241m0.1104\u001b[39m, \u001b[38;5;241m0.2208\u001b[39m, \u001b[38;5;241m0.3312\u001b[39m], [\u001b[38;5;241m-\u001b[39m\u001b[38;5;241m0.1104\u001b[39m, \u001b[38;5;241m-\u001b[39m\u001b[38;5;241m0.2208\u001b[39m, \u001b[38;5;241m-\u001b[39m\u001b[38;5;241m0.3312\u001b[39m]], atol\u001b[38;5;241m=\u001b[39m\u001b[38;5;241m1e-4\u001b[39m)\n\u001b[0;32m     10\u001b[0m \u001b[38;5;28;01massert\u001b[39;00m np\u001b[38;5;241m.\u001b[39mallclose(gradients_b[\u001b[38;5;241m1\u001b[39m], [[\u001b[38;5;241m0.368\u001b[39m], [\u001b[38;5;241m-\u001b[39m\u001b[38;5;241m0.368\u001b[39m]], atol\u001b[38;5;241m=\u001b[39m\u001b[38;5;241m1e-4\u001b[39m)\n\u001b[0;32m     11\u001b[0m \u001b[38;5;28;01massert\u001b[39;00m np\u001b[38;5;241m.\u001b[39mallclose(gradients_W[\u001b[38;5;241m0\u001b[39m], [[\u001b[38;5;241m-\u001b[39m\u001b[38;5;241m0.1104\u001b[39m, \u001b[38;5;241m-\u001b[39m\u001b[38;5;241m0.0552\u001b[39m], [\u001b[38;5;241m-\u001b[39m\u001b[38;5;241m0.1104\u001b[39m, \u001b[38;5;241m-\u001b[39m\u001b[38;5;241m0.0552\u001b[39m], [\u001b[38;5;241m-\u001b[39m\u001b[38;5;241m0.1104\u001b[39m, \u001b[38;5;241m-\u001b[39m\u001b[38;5;241m0.0552\u001b[39m]], atol\u001b[38;5;241m=\u001b[39m\u001b[38;5;241m1e-4\u001b[39m)\n",
      "\u001b[1;31mAssertionError\u001b[0m: "
     ]
    }
   ],
   "source": [
    "# --- Verification (Compare with manual calculation) ---\n",
    "# Manual results (approx):\n",
    "# dJ/dW^2 ≈ [[0.1104, 0.2208, 0.3312], [-0.1104, -0.2208, -0.3312]]\n",
    "# dJ/db^2 ≈ [0.368, -0.368]^T\n",
    "# dJ/dW^1 ≈ [[-0.1104, -0.0552], [-0.1104, -0.0552], [-0.1104, -0.0552]]\n",
    "# dJ/db^1 ≈ [-0.1104, -0.1104, -0.1104]^T\n",
    "\n",
    "# Check if code results match (allowing for floating point differences)\n",
    "assert np.allclose(gradients_W[1], [[0.1104, 0.2208, 0.3312], [-0.1104, -0.2208, -0.3312]], atol=1e-4)\n",
    "assert np.allclose(gradients_b[1], [[0.368], [-0.368]], atol=1e-4)\n",
    "assert np.allclose(gradients_W[0], [[-0.1104, -0.0552], [-0.1104, -0.0552], [-0.1104, -0.0552]], atol=1e-4)\n",
    "assert np.allclose(gradients_b[0], [[-0.1104], [-0.1104], [-0.1104]], atol=1e-4)"
   ]
  }
 ],
 "metadata": {
  "kernelspec": {
   "display_name": "deep_learning",
   "language": "python",
   "name": "python3"
  },
  "language_info": {
   "codemirror_mode": {
    "name": "ipython",
    "version": 3
   },
   "file_extension": ".py",
   "mimetype": "text/x-python",
   "name": "python",
   "nbconvert_exporter": "python",
   "pygments_lexer": "ipython3",
   "version": "3.9.7"
  }
 },
 "nbformat": 4,
 "nbformat_minor": 5
}
