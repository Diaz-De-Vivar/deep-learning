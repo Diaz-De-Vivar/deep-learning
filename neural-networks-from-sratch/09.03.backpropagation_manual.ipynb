{
 "cells": [
  {
   "cell_type": "markdown",
   "id": "b87083e8",
   "metadata": {},
   "source": [
    "# Manual Backpropagation"
   ]
  },
  {
   "cell_type": "markdown",
   "id": "1a336494",
   "metadata": {},
   "source": [
    "Okay, let's extend the explanation to a 3-layer MLP (L=3, meaning 2 hidden layers and 1 output layer) and add the derivative calculation with respect to the input `x`.\n",
    "\n",
    "## Foundational Mathematical Explanation (L=3 MLP)\n",
    "\n",
    "### 1. Network Architecture and Notation (L=3)\n",
    "\n",
    "*   **Input Layer (Layer 0):** Input vector $\\mathbf{x} \\in \\mathbb{R}^{n_0}$. Activation $\\mathbf{a}^0 = \\mathbf{x}$.\n",
    "*   **Hidden Layer 1 (l=1):**\n",
    "    *   Weight matrix $\\mathbf{W}^1 \\in \\mathbb{R}^{n_1 \\times n_0}$\n",
    "    *   Bias vector $\\mathbf{b}^1 \\in \\mathbb{R}^{n_1}$\n",
    "    *   Pre-activation: $\\mathbf{z}^1 = \\mathbf{W}^1 \\mathbf{a}^0 + \\mathbf{b}^1$, $\\mathbf{z}^1 \\in \\mathbb{R}^{n_1}$\n",
    "    *   Activation (ReLU): $\\mathbf{a}^1 = \\text{ReLU}(\\mathbf{z}^1) = \\max(0, \\mathbf{z}^1)$, $\\mathbf{a}^1 \\in \\mathbb{R}^{n_1}$\n",
    "*   **Hidden Layer 2 (l=2):**\n",
    "    *   Weight matrix $\\mathbf{W}^2 \\in \\mathbb{R}^{n_2 \\times n_1}$\n",
    "    *   Bias vector $\\mathbf{b}^2 \\in \\mathbb{R}^{n_2}$\n",
    "    *   Pre-activation: $\\mathbf{z}^2 = \\mathbf{W}^2 \\mathbf{a}^1 + \\mathbf{b}^2$, $\\mathbf{z}^2 \\in \\mathbb{R}^{n_2}$\n",
    "    *   Activation (ReLU): $\\mathbf{a}^2 = \\text{ReLU}(\\mathbf{z}^2) = \\max(0, \\mathbf{z}^2)$, $\\mathbf{a}^2 \\in \\mathbb{R}^{n_2}$\n",
    "*   **Output Layer (l=3):**\n",
    "    *   Weight matrix $\\mathbf{W}^3 \\in \\mathbb{R}^{n_3 \\times n_2}$\n",
    "    *   Bias vector $\\mathbf{b}^3 \\in \\mathbb{R}^{n_3}$\n",
    "    *   Pre-activation: $\\mathbf{z}^3 = \\mathbf{W}^3 \\mathbf{a}^2 + \\mathbf{b}^3$, $\\mathbf{z}^3 \\in \\mathbb{R}^{n_3}$\n",
    "    *   Activation (Softmax): $\\hat{\\mathbf{y}} = \\mathbf{a}^3 = \\text{softmax}(\\mathbf{z}^3)$, $\\hat{\\mathbf{y}} \\in \\mathbb{R}^{n_3}$. $n_3$ is the number of classes.\n",
    "*   **Target:** True label vector $\\mathbf{y} \\in \\mathbb{R}^{n_3}$ (one-hot).\n",
    "*   **Loss Function (Categorical Cross-Entropy):**\n",
    "    $J(\\hat{\\mathbf{y}}, \\mathbf{y}) = - \\sum_{i=1}^{n_3} y_i \\log(\\hat{y}_i)$\n",
    "\n",
    "### 2. Goal: Gradient Calculation\n",
    "\n",
    "Compute gradients w.r.t. all parameters ($\\mathbf{W}^1, \\mathbf{b}^1, \\mathbf{W}^2, \\mathbf{b}^2, \\mathbf{W}^3, \\mathbf{b}^3$) and the input $\\mathbf{x}$.\n",
    "\n",
    "### 3. Backpropagation Steps (L=3)\n",
    "\n",
    "We use the chain rule, propagating the gradient of the loss `J` backward. The core quantities are the gradients w.r.t. pre-activations, $\\delta^l = \\frac{\\partial J}{\\partial \\mathbf{z}^l}$.\n",
    "\n",
    "**Step 1: Gradient w.r.t. Output Layer Pre-activation (z^3)**\n",
    "\n",
    "As derived previously, for CCE loss and Softmax activation:\n",
    "$\\delta^3 = \\frac{\\partial J}{\\partial \\mathbf{z}^3} = \\mathbf{a}^3 - \\mathbf{y} = \\hat{\\mathbf{y}} - \\mathbf{y}$\n",
    "\n",
    "**Step 2: Gradients for Layer 3 Parameters (W^3, b^3)**\n",
    "\n",
    "Using $\\mathbf{z}^3 = \\mathbf{W}^3 \\mathbf{a}^2 + \\mathbf{b}^3$:\n",
    "*   $\\frac{\\partial J}{\\partial \\mathbf{W}^3} = \\frac{\\partial J}{\\partial \\mathbf{z}^3} \\left(\\frac{\\partial \\mathbf{z}^3}{\\partial \\mathbf{W}^3}\\right)_{\\text{tensor contraction}} = \\delta^3 (\\mathbf{a}^2)^T$\n",
    "*   $\\frac{\\partial J}{\\partial \\mathbf{b}^3} = \\frac{\\partial J}{\\partial \\mathbf{z}^3} \\frac{\\partial \\mathbf{z}^3}{\\partial \\mathbf{b}^3} = \\delta^3 \\mathbf{I} = \\delta^3$\n",
    "\n",
    "**Step 3: Propagate Error to Layer 2 Activation (a^2)**\n",
    "\n",
    "$\\frac{\\partial J}{\\partial \\mathbf{a}^2} = \\frac{\\partial \\mathbf{z}^3}{\\partial \\mathbf{a}^2}^T \\frac{\\partial J}{\\partial \\mathbf{z}^3} = (\\mathbf{W}^3)^T \\delta^3$\n",
    "\n",
    "**Step 4: Propagate Error Through Layer 2 ReLU Activation (z^2)**\n",
    "\n",
    "$\\delta^2 = \\frac{\\partial J}{\\partial \\mathbf{z}^2} = \\frac{\\partial J}{\\partial \\mathbf{a}^2} \\odot \\frac{\\partial \\mathbf{a}^2}{\\partial \\mathbf{z}^2} = \\frac{\\partial J}{\\partial \\mathbf{a}^2} \\odot \\text{ReLU}'(\\mathbf{z}^2)$\n",
    "where $\\odot$ is the Hadamard (element-wise) product and $\\text{ReLU}'(z)$ is the element-wise derivative (1 if z > 0, 0 otherwise).\n",
    "Substituting from Step 3:\n",
    "$\\delta^2 = [(\\mathbf{W}^3)^T \\delta^3] \\odot \\text{ReLU}'(\\mathbf{z}^2)$\n",
    "\n",
    "**Step 5: Gradients for Layer 2 Parameters (W^2, b^2)**\n",
    "\n",
    "Using $\\mathbf{z}^2 = \\mathbf{W}^2 \\mathbf{a}^1 + \\mathbf{b}^2$:\n",
    "*   $\\frac{\\partial J}{\\partial \\mathbf{W}^2} = \\frac{\\partial J}{\\partial \\mathbf{z}^2} \\left(\\frac{\\partial \\mathbf{z}^2}{\\partial \\mathbf{W}^2}\\right)_{\\text{tensor contraction}} = \\delta^2 (\\mathbf{a}^1)^T$\n",
    "*   $\\frac{\\partial J}{\\partial \\mathbf{b}^2} = \\frac{\\partial J}{\\partial \\mathbf{z}^2} \\frac{\\partial \\mathbf{z}^2}{\\partial \\mathbf{b}^2} = \\delta^2 \\mathbf{I} = \\delta^2$\n",
    "\n",
    "**Step 6: Propagate Error to Layer 1 Activation (a^1)**\n",
    "\n",
    "$\\frac{\\partial J}{\\partial \\mathbf{a}^1} = \\frac{\\partial \\mathbf{z}^2}{\\partial \\mathbf{a}^1}^T \\frac{\\partial J}{\\partial \\mathbf{z}^2} = (\\mathbf{W}^2)^T \\delta^2$\n",
    "\n",
    "**Step 7: Propagate Error Through Layer 1 ReLU Activation (z^1)**\n",
    "\n",
    "$\\delta^1 = \\frac{\\partial J}{\\partial \\mathbf{z}^1} = \\frac{\\partial J}{\\partial \\mathbf{a}^1} \\odot \\frac{\\partial \\mathbf{a}^1}{\\partial \\mathbf{z}^1} = \\frac{\\partial J}{\\partial \\mathbf{a}^1} \\odot \\text{ReLU}'(\\mathbf{z}^1)$\n",
    "Substituting from Step 6:\n",
    "$\\delta^1 = [(\\mathbf{W}^2)^T \\delta^2] \\odot \\text{ReLU}'(\\mathbf{z}^1)$\n",
    "\n",
    "**Step 8: Gradients for Layer 1 Parameters (W^1, b^1)**\n",
    "\n",
    "Using $\\mathbf{z}^1 = \\mathbf{W}^1 \\mathbf{a}^0 + \\mathbf{b}^1$:\n",
    "*   $\\frac{\\partial J}{\\partial \\mathbf{W}^1} = \\frac{\\partial J}{\\partial \\mathbf{z}^1} \\left(\\frac{\\partial \\mathbf{z}^1}{\\partial \\mathbf{W}^1}\\right)_{\\text{tensor contraction}} = \\delta^1 (\\mathbf{a}^0)^T = \\delta^1 \\mathbf{x}^T$\n",
    "*   $\\frac{\\partial J}{\\partial \\mathbf{b}^1} = \\frac{\\partial J}{\\partial \\mathbf{z}^1} \\frac{\\partial \\mathbf{z}^1}{\\partial \\mathbf{b}^1} = \\delta^1 \\mathbf{I} = \\delta^1$\n",
    "\n",
    "**Step 9: Gradient w.r.t. Network Input (x = a^0)**\n",
    "\n",
    "We need $\\frac{\\partial J}{\\partial \\mathbf{a}^0}$. This is computed similarly to Steps 3 and 6:\n",
    "$\\frac{\\partial J}{\\partial \\mathbf{a}^0} = \\frac{\\partial \\mathbf{z}^1}{\\partial \\mathbf{a}^0}^T \\frac{\\partial J}{\\partial \\mathbf{z}^1} = (\\mathbf{W}^1)^T \\delta^1$\n",
    "Since $\\mathbf{x} = \\mathbf{a}^0$:\n",
    "$\\frac{\\partial J}{\\partial \\mathbf{x}} = (\\mathbf{W}^1)^T \\delta^1$\n",
    "\n",
    "**Full Chain Rule Formula for ∂J/∂x:**\n",
    "Writing the full chain rule dependency explicitly:\n",
    "$$\n",
    "\\frac{\\partial J}{\\partial \\mathbf{x}} = \\frac{\\partial J}{\\partial \\mathbf{a}^3} \\frac{\\partial \\mathbf{a}^3}{\\partial \\mathbf{z}^3} \\frac{\\partial \\mathbf{z}^3}{\\partial \\mathbf{a}^2} \\frac{\\partial \\mathbf{a}^2}{\\partial \\mathbf{z}^2} \\frac{\\partial \\mathbf{z}^2}{\\partial \\mathbf{a}^1} \\frac{\\partial \\mathbf{a}^1}{\\partial \\mathbf{z}^1} \\frac{\\partial \\mathbf{z}^1}{\\partial \\mathbf{a}^0}\n",
    "$$\n",
    "Substituting the Jacobians (where $\\mathbf{J}_{softmax}$, $\\mathbf{J}_{ReLU}$ are Jacobian matrices):\n",
    "$$\n",
    "\\frac{\\partial J}{\\partial \\mathbf{x}}^T = \\left(\\frac{\\partial J}{\\partial \\mathbf{a}^3}\\right)^T \\mathbf{J}_{softmax}(\\mathbf{z}^3) (\\mathbf{W}^3) \\mathbf{J}_{ReLU}(\\mathbf{z}^2) (\\mathbf{W}^2) \\mathbf{J}_{ReLU}(\\mathbf{z}^1) (\\mathbf{W}^1)\n",
    "$$\n",
    "Note: $\\frac{\\partial J}{\\partial \\mathbf{a}^3} \\frac{\\partial \\mathbf{a}^3}{\\partial \\mathbf{z}^3} = (\\delta^3)^T$. Also $\\mathbf{J}_{ReLU}(\\mathbf{z}^l)$ is a diagonal matrix with $\\text{ReLU}'(z_i^l)$ on the diagonal. The chain rule involving element-wise operations and matrix multiplications can be more compactly written using the $\\delta^l$ terms as derived above. The final result $\\frac{\\partial J}{\\partial \\mathbf{x}} = (\\mathbf{W}^1)^T \\delta^1$ correctly encapsulates this chain.\n",
    "\n",
    "---\n",
    "\n",
    "## Simple Numerical Example (3-Layer MLP)\n",
    "\n",
    "Let's use a 3-layer MLP (2 hidden, 1 output).\n",
    "*   Input $n_0 = 2$\n",
    "*   Hidden Layer 1 $n_1 = 3$ (ReLU)\n",
    "*   Hidden Layer 2 $n_2 = 4$ (ReLU)\n",
    "*   Output Layer $n_3 = 2$ (Softmax, CCE Loss)\n",
    "\n",
    "**Network Parameters:**\n",
    "*   $\\mathbf{W}^1 = \\begin{pmatrix} 0.1 & 0.2 \\\\ 0.3 & 0.4 \\\\ 0.5 & 0.6 \\end{pmatrix}$ (3x2), $\\mathbf{b}^1 = \\begin{pmatrix} 0.1 \\\\ 0.1 \\\\ 0.1 \\end{pmatrix}$ (3x1)\n",
    "*   $\\mathbf{W}^2 = \\begin{pmatrix} 0.1 & 0.2 & 0.3 \\\\ 0.4 & 0.5 & 0.6 \\\\ 0.7 & 0.8 & 0.9 \\\\ 0.2 & 0.1 & 0.3 \\end{pmatrix}$ (4x3), $\\mathbf{b}^2 = \\begin{pmatrix} 0.1 \\\\ 0.1 \\\\ 0.1 \\\\ 0.1 \\end{pmatrix}$ (4x1)\n",
    "*   $\\mathbf{W}^3 = \\begin{pmatrix} 0.5 & 0.6 & 0.7 & 0.8 \\\\ 0.9 & 0.8 & 0.7 & 0.6 \\end{pmatrix}$ (2x4), $\\mathbf{b}^3 = \\begin{pmatrix} 0.2 \\\\ 0.2 \\end{pmatrix}$ (2x1)\n",
    "\n",
    "**Input Sample:**\n",
    "*   $\\mathbf{x} = \\mathbf{a}^0 = \\begin{pmatrix} 1.0 \\\\ 0.5 \\end{pmatrix}$\n",
    "\n",
    "**Target Label:**\n",
    "*   $\\mathbf{y} = \\begin{pmatrix} 0 \\\\ 1 \\end{pmatrix}$ (representing class 1)\n",
    "\n",
    "**Step-by-Step Calculation (Manual):**\n",
    "\n",
    "**1. Forward Pass:**\n",
    "\n",
    "*   **Layer 1:**\n",
    "    *   $\\mathbf{z}^1 = \\mathbf{W}^1 \\mathbf{a}^0 + \\mathbf{b}^1 = \\begin{pmatrix} 0.1 & 0.2 \\\\ 0.3 & 0.4 \\\\ 0.5 & 0.6 \\end{pmatrix} \\begin{pmatrix} 1.0 \\\\ 0.5 \\end{pmatrix} + \\begin{pmatrix} 0.1 \\\\ 0.1 \\\\ 0.1 \\end{pmatrix} = \\begin{pmatrix} 0.1+0.1 \\\\ 0.3+0.2 \\\\ 0.5+0.3 \\end{pmatrix} + \\begin{pmatrix} 0.1 \\\\ 0.1 \\\\ 0.1 \\end{pmatrix} = \\begin{pmatrix} 0.2 \\\\ 0.5 \\\\ 0.8 \\end{pmatrix} + \\begin{pmatrix} 0.1 \\\\ 0.1 \\\\ 0.1 \\end{pmatrix} = \\begin{pmatrix} 0.3 \\\\ 0.6 \\\\ 0.9 \\end{pmatrix}$\n",
    "    *   $\\mathbf{a}^1 = \\text{ReLU}(\\mathbf{z}^1) = \\begin{pmatrix} 0.3 \\\\ 0.6 \\\\ 0.9 \\end{pmatrix}$\n",
    "\n",
    "*   **Layer 2:**\n",
    "    *   $\\mathbf{z}^2 = \\mathbf{W}^2 \\mathbf{a}^1 + \\mathbf{b}^2 = \\begin{pmatrix} 0.1 & 0.2 & 0.3 \\\\ 0.4 & 0.5 & 0.6 \\\\ 0.7 & 0.8 & 0.9 \\\\ 0.2 & 0.1 & 0.3 \\end{pmatrix} \\begin{pmatrix} 0.3 \\\\ 0.6 \\\\ 0.9 \\end{pmatrix} + \\begin{pmatrix} 0.1 \\\\ 0.1 \\\\ 0.1 \\\\ 0.1 \\end{pmatrix}$\n",
    "        $= \\begin{pmatrix} 0.03+0.12+0.27 \\\\ 0.12+0.30+0.54 \\\\ 0.21+0.48+0.81 \\\\ 0.06+0.06+0.27 \\end{pmatrix} + \\begin{pmatrix} 0.1 \\\\ 0.1 \\\\ 0.1 \\\\ 0.1 \\end{pmatrix} = \\begin{pmatrix} 0.42 \\\\ 0.96 \\\\ 1.50 \\\\ 0.39 \\end{pmatrix} + \\begin{pmatrix} 0.1 \\\\ 0.1 \\\\ 0.1 \\\\ 0.1 \\end{pmatrix} = \\begin{pmatrix} 0.52 \\\\ 1.06 \\\\ 1.60 \\\\ 0.49 \\end{pmatrix}$\n",
    "    *   $\\mathbf{a}^2 = \\text{ReLU}(\\mathbf{z}^2) = \\begin{pmatrix} 0.52 \\\\ 1.06 \\\\ 1.60 \\\\ 0.49 \\end{pmatrix}$\n",
    "\n",
    "*   **Layer 3 (Output):**\n",
    "    *   $\\mathbf{z}^3 = \\mathbf{W}^3 \\mathbf{a}^2 + \\mathbf{b}^3 = \\begin{pmatrix} 0.5 & 0.6 & 0.7 & 0.8 \\\\ 0.9 & 0.8 & 0.7 & 0.6 \\end{pmatrix} \\begin{pmatrix} 0.52 \\\\ 1.06 \\\\ 1.60 \\\\ 0.49 \\end{pmatrix} + \\begin{pmatrix} 0.2 \\\\ 0.2 \\end{pmatrix}$\n",
    "        $= \\begin{pmatrix} 0.5(0.52)+0.6(1.06)+0.7(1.60)+0.8(0.49) \\\\ 0.9(0.52)+0.8(1.06)+0.7(1.60)+0.6(0.49) \\end{pmatrix} + \\begin{pmatrix} 0.2 \\\\ 0.2 \\end{pmatrix}$\n",
    "        $= \\begin{pmatrix} 0.260+0.636+1.120+0.392 \\\\ 0.468+0.848+1.120+0.294 \\end{pmatrix} + \\begin{pmatrix} 0.2 \\\\ 0.2 \\end{pmatrix} = \\begin{pmatrix} 2.408 \\\\ 2.730 \\end{pmatrix} + \\begin{pmatrix} 0.2 \\\\ 0.2 \\end{pmatrix} = \\begin{pmatrix} 2.608 \\\\ 2.930 \\end{pmatrix}$\n",
    "    *   $\\mathbf{a}^3 = \\hat{\\mathbf{y}} = \\text{softmax}(\\mathbf{z}^3)$\n",
    "        $\\exp(\\mathbf{z}^3) \\approx \\begin{pmatrix} e^{2.608} \\\\ e^{2.930} \\end{pmatrix} \\approx \\begin{pmatrix} 13.571 \\\\ 18.727 \\end{pmatrix}$\n",
    "        Sum $\\approx 13.571 + 18.727 = 32.298$\n",
    "        $\\mathbf{a}^3 = \\hat{\\mathbf{y}} \\approx \\begin{pmatrix} 13.571 / 32.298 \\\\ 18.727 / 32.298 \\end{pmatrix} \\approx \\begin{pmatrix} 0.4199 \\\\ 0.5801 \\end{pmatrix}$\n",
    "\n",
    "**2. Backward Pass:**\n",
    "\n",
    "*   **Compute $\\delta^3$ (Output Layer Error Signal):**\n",
    "    $\\delta^3 = \\frac{\\partial J}{\\partial \\mathbf{z}^3} = \\mathbf{a}^3 - \\mathbf{y} \\approx \\begin{pmatrix} 0.4199 \\\\ 0.5801 \\end{pmatrix} - \\begin{pmatrix} 0 \\\\ 1 \\end{pmatrix} = \\begin{pmatrix} 0.4199 \\\\ -0.4199 \\end{pmatrix}$\n",
    "\n",
    "*   **Compute Gradients for Layer 3 ($\\mathbf{W}^3, \\mathbf{b}^3$):**\n",
    "    *   $\\frac{\\partial J}{\\partial \\mathbf{W}^3} = \\delta^3 (\\mathbf{a}^2)^T \\approx \\begin{pmatrix} 0.4199 \\\\ -0.4199 \\end{pmatrix} \\begin{pmatrix} 0.52 & 1.06 & 1.60 & 0.49 \\end{pmatrix}$\n",
    "        $\\frac{\\partial J}{\\partial \\mathbf{W}^3} \\approx \\begin{pmatrix} 0.4199 \\cdot 0.52 & 0.4199 \\cdot 1.06 & 0.4199 \\cdot 1.60 & 0.4199 \\cdot 0.49 \\\\ -0.4199 \\cdot 0.52 & -0.4199 \\cdot 1.06 & -0.4199 \\cdot 1.60 & -0.4199 \\cdot 0.49 \\end{pmatrix}$\n",
    "        $\\frac{\\partial J}{\\partial \\mathbf{W}^3} \\approx \\begin{pmatrix} 0.2183 & 0.4451 & 0.6718 & 0.2058 \\\\ -0.2183 & -0.4451 & -0.6718 & -0.2058 \\end{pmatrix}$ (2x4)\n",
    "    *   $\\frac{\\partial J}{\\partial \\mathbf{b}^3} = \\delta^3 \\approx \\begin{pmatrix} 0.4199 \\\\ -0.4199 \\end{pmatrix}$ (2x1)\n",
    "\n",
    "*   **Compute $\\delta^2$ (Hidden Layer 2 Error Signal):**\n",
    "    *   $\\frac{\\partial J}{\\partial \\mathbf{a}^2} = (\\mathbf{W}^3)^T \\delta^3 = \\begin{pmatrix} 0.5 & 0.9 \\\\ 0.6 & 0.8 \\\\ 0.7 & 0.7 \\\\ 0.8 & 0.6 \\end{pmatrix} \\begin{pmatrix} 0.4199 \\\\ -0.4199 \\end{pmatrix}$\n",
    "        $\\approx \\begin{pmatrix} 0.5(0.4199) + 0.9(-0.4199) \\\\ 0.6(0.4199) + 0.8(-0.4199) \\\\ 0.7(0.4199) + 0.7(-0.4199) \\\\ 0.8(0.4199) + 0.6(-0.4199) \\end{pmatrix} = \\begin{pmatrix} 0.4199(0.5-0.9) \\\\ 0.4199(0.6-0.8) \\\\ 0.4199(0.7-0.7) \\\\ 0.4199(0.8-0.6) \\end{pmatrix} = \\begin{pmatrix} 0.4199(-0.4) \\\\ 0.4199(-0.2) \\\\ 0.4199(0.0) \\\\ 0.4199(0.2) \\end{pmatrix} \\approx \\begin{pmatrix} -0.1680 \\\\ -0.0840 \\\\ 0.0000 \\\\ 0.0840 \\end{pmatrix}$\n",
    "    *   $\\text{ReLU}'(\\mathbf{z}^2)$: Since $\\mathbf{z}^2 = \\begin{pmatrix} 0.52 \\\\ 1.06 \\\\ 1.60 \\\\ 0.49 \\end{pmatrix}$, all elements are > 0.\n",
    "        $\\text{ReLU}'(\\mathbf{z}^2) = \\begin{pmatrix} 1 \\\\ 1 \\\\ 1 \\\\ 1 \\end{pmatrix}$\n",
    "    *   $\\delta^2 = \\frac{\\partial J}{\\partial \\mathbf{a}^2} \\odot \\text{ReLU}'(\\mathbf{z}^2) \\approx \\begin{pmatrix} -0.1680 \\\\ -0.0840 \\\\ 0.0000 \\\\ 0.0840 \\end{pmatrix} \\odot \\begin{pmatrix} 1 \\\\ 1 \\\\ 1 \\\\ 1 \\end{pmatrix} = \\begin{pmatrix} -0.1680 \\\\ -0.0840 \\\\ 0.0000 \\\\ 0.0840 \\end{pmatrix}$ (4x1)\n",
    "\n",
    "*   **Compute Gradients for Layer 2 ($\\mathbf{W}^2, \\mathbf{b}^2$):**\n",
    "    *   $\\frac{\\partial J}{\\partial \\mathbf{W}^2} = \\delta^2 (\\mathbf{a}^1)^T \\approx \\begin{pmatrix} -0.1680 \\\\ -0.0840 \\\\ 0.0000 \\\\ 0.0840 \\end{pmatrix} \\begin{pmatrix} 0.3 & 0.6 & 0.9 \\end{pmatrix}$\n",
    "        $\\frac{\\partial J}{\\partial \\mathbf{W}^2} \\approx \\begin{pmatrix} -0.1680(0.3) & -0.1680(0.6) & -0.1680(0.9) \\\\ -0.0840(0.3) & -0.0840(0.6) & -0.0840(0.9) \\\\ 0 & 0 & 0 \\\\ 0.0840(0.3) & 0.0840(0.6) & 0.0840(0.9) \\end{pmatrix} \\approx \\begin{pmatrix} -0.0504 & -0.1008 & -0.1512 \\\\ -0.0252 & -0.0504 & -0.0756 \\\\ 0.0000 & 0.0000 & 0.0000 \\\\ 0.0252 & 0.0504 & 0.0756 \\end{pmatrix}$ (4x3)\n",
    "    *   $\\frac{\\partial J}{\\partial \\mathbf{b}^2} = \\delta^2 \\approx \\begin{pmatrix} -0.1680 \\\\ -0.0840 \\\\ 0.0000 \\\\ 0.0840 \\end{pmatrix}$ (4x1)\n",
    "\n",
    "*   **Compute $\\delta^1$ (Hidden Layer 1 Error Signal):**\n",
    "    *   $\\frac{\\partial J}{\\partial \\mathbf{a}^1} = (\\mathbf{W}^2)^T \\delta^2 = \\begin{pmatrix} 0.1 & 0.4 & 0.7 & 0.2 \\\\ 0.2 & 0.5 & 0.8 & 0.1 \\\\ 0.3 & 0.6 & 0.9 & 0.3 \\end{pmatrix} \\begin{pmatrix} -0.1680 \\\\ -0.0840 \\\\ 0.0000 \\\\ 0.0840 \\end{pmatrix}$\n",
    "        $\\approx \\begin{pmatrix} 0.1(-0.168)+0.4(-0.084)+0.7(0)+0.2(0.084) \\\\ 0.2(-0.168)+0.5(-0.084)+0.8(0)+0.1(0.084) \\\\ 0.3(-0.168)+0.6(-0.084)+0.9(0)+0.3(0.084) \\end{pmatrix} = \\begin{pmatrix} -0.0168 - 0.0336 + 0 + 0.0168 \\\\ -0.0336 - 0.0420 + 0 + 0.0084 \\\\ -0.0504 - 0.0504 + 0 + 0.0252 \\end{pmatrix} = \\begin{pmatrix} -0.0336 \\\\ -0.0672 \\\\ -0.0756 \\end{pmatrix}$\n",
    "    *   $\\text{ReLU}'(\\mathbf{z}^1)$: Since $\\mathbf{z}^1 = \\begin{pmatrix} 0.3 \\\\ 0.6 \\\\ 0.9 \\end{pmatrix}$, all elements are > 0.\n",
    "        $\\text{ReLU}'(\\mathbf{z}^1) = \\begin{pmatrix} 1 \\\\ 1 \\\\ 1 \\end{pmatrix}$\n",
    "    *   $\\delta^1 = \\frac{\\partial J}{\\partial \\mathbf{a}^1} \\odot \\text{ReLU}'(\\mathbf{z}^1) \\approx \\begin{pmatrix} -0.0336 \\\\ -0.0672 \\\\ -0.0756 \\end{pmatrix} \\odot \\begin{pmatrix} 1 \\\\ 1 \\\\ 1 \\end{pmatrix} = \\begin{pmatrix} -0.0336 \\\\ -0.0672 \\\\ -0.0756 \\end{pmatrix}$ (3x1)\n",
    "\n",
    "*   **Compute Gradients for Layer 1 ($\\mathbf{W}^1, \\mathbf{b}^1$):**\n",
    "    *   $\\frac{\\partial J}{\\partial \\mathbf{W}^1} = \\delta^1 (\\mathbf{a}^0)^T = \\delta^1 \\mathbf{x}^T \\approx \\begin{pmatrix} -0.0336 \\\\ -0.0672 \\\\ -0.0756 \\end{pmatrix} \\begin{pmatrix} 1.0 & 0.5 \\end{pmatrix}$\n",
    "        $\\frac{\\partial J}{\\partial \\mathbf{W}^1} \\approx \\begin{pmatrix} -0.0336(1.0) & -0.0336(0.5) \\\\ -0.0672(1.0) & -0.0672(0.5) \\\\ -0.0756(1.0) & -0.0756(0.5) \\end{pmatrix} \\approx \\begin{pmatrix} -0.0336 & -0.0168 \\\\ -0.0672 & -0.0336 \\\\ -0.0756 & -0.0378 \\end{pmatrix}$ (3x2)\n",
    "    *   $\\frac{\\partial J}{\\partial \\mathbf{b}^1} = \\delta^1 \\approx \\begin{pmatrix} -0.0336 \\\\ -0.0672 \\\\ -0.0756 \\end{pmatrix}$ (3x1)\n",
    "\n",
    "*   **Compute Gradient w.r.t. Input ($\\mathbf{x}$):**\n",
    "    *   $\\frac{\\partial J}{\\partial \\mathbf{x}} = (\\mathbf{W}^1)^T \\delta^1 = \\begin{pmatrix} 0.1 & 0.3 & 0.5 \\\\ 0.2 & 0.4 & 0.6 \\end{pmatrix} \\begin{pmatrix} -0.0336 \\\\ -0.0672 \\\\ -0.0756 \\end{pmatrix}$\n",
    "        $\\approx \\begin{pmatrix} 0.1(-0.0336)+0.3(-0.0672)+0.5(-0.0756) \\\\ 0.2(-0.0336)+0.4(-0.0672)+0.6(-0.0756) \\end{pmatrix} = \\begin{pmatrix} -0.00336 - 0.02016 - 0.0378 \\\\ -0.00672 - 0.02688 - 0.04536 \\end{pmatrix} = \\begin{pmatrix} -0.06132 \\\\ -0.07896 \\end{pmatrix}$ (2x1)\n",
    "\n",
    "**Summary of Gradients (Approximate):**\n",
    "*   $\\frac{\\partial J}{\\partial \\mathbf{W}^3} \\approx \\begin{pmatrix} 0.2183 & 0.4451 & 0.6718 & 0.2058 \\\\ -0.2183 & -0.4451 & -0.6718 & -0.2058 \\end{pmatrix}$\n",
    "*   $\\frac{\\partial J}{\\partial \\mathbf{b}^3} \\approx \\begin{pmatrix} 0.4199 \\\\ -0.4199 \\end{pmatrix}$\n",
    "*   $\\frac{\\partial J}{\\partial \\mathbf{W}^2} \\approx \\begin{pmatrix} -0.0504 & -0.1008 & -0.1512 \\\\ -0.0252 & -0.0504 & -0.0756 \\\\ 0.0000 & 0.0000 & 0.0000 \\\\ 0.0252 & 0.0504 & 0.0756 \\end{pmatrix}$\n",
    "*   $\\frac{\\partial J}{\\partial \\mathbf{b}^2} \\approx \\begin{pmatrix} -0.1680 \\\\ -0.0840 \\\\ 0.0000 \\\\ 0.0840 \\end{pmatrix}$\n",
    "*   $\\frac{\\partial J}{\\partial \\mathbf{W}^1} \\approx \\begin{pmatrix} -0.0336 & -0.0168 \\\\ -0.0672 & -0.0336 \\\\ -0.0756 & -0.0378 \\end{pmatrix}$\n",
    "*   $\\frac{\\partial J}{\\partial \\mathbf{b}^1} \\approx \\begin{pmatrix} -0.0336 \\\\ -0.0672 \\\\ -0.0756 \\end{pmatrix}$\n",
    "*   $\\frac{\\partial J}{\\partial \\mathbf{x}} \\approx \\begin{pmatrix} -0.0613 \\\\ -0.0790 \\end{pmatrix}$"
   ]
  },
  {
   "cell_type": "markdown",
   "id": "ce3133f7",
   "metadata": {},
   "source": [
    "# Code implementation"
   ]
  },
  {
   "cell_type": "markdown",
   "id": "c209153f",
   "metadata": {},
   "source": [
    "## Imports and definitions"
   ]
  },
  {
   "cell_type": "code",
   "execution_count": 1,
   "id": "ecb737ce",
   "metadata": {},
   "outputs": [],
   "source": [
    "import numpy as np\n",
    "\n",
    "# --- Activation Functions ---\n",
    "def relu(z):\n",
    "    \"\"\"Element-wise ReLU activation.\"\"\"\n",
    "    return np.maximum(0, z)\n",
    "\n",
    "def relu_derivative(z):\n",
    "    \"\"\"Element-wise derivative of ReLU.\"\"\"\n",
    "    return np.where(z > 0, 1.0, 0.0)\n",
    "\n",
    "def softmax(z):\n",
    "    \"\"\"Softmax activation for a single sample or batch (along axis 1).\"\"\"\n",
    "    # Shift z for numerical stability (subtract max)\n",
    "    shift_z = z - np.max(z, axis=0, keepdims=True)\n",
    "    exps = np.exp(shift_z)\n",
    "    return exps / np.sum(exps, axis=0, keepdims=True)"
   ]
  },
  {
   "cell_type": "markdown",
   "id": "62916a33",
   "metadata": {},
   "source": [
    "### Neural net definition"
   ]
  },
  {
   "cell_type": "code",
   "execution_count": 2,
   "id": "fef2a487",
   "metadata": {},
   "outputs": [],
   "source": [
    "# Use column vectors for biases and inputs\n",
    "W1 = np.array([[0.1, 0.2], [0.3, 0.4], [0.5, 0.6]]) # Shape (3, 2)\n",
    "b1 = np.array([[0.1], [0.1], [0.1]])              # Shape (3, 1)\n",
    "W2 = np.array([[0.7, 0.8, 0.9], [1.0, 1.1, 1.2]]) # Shape (2, 3)\n",
    "b2 = np.array([[0.2], [0.2]])                     # Shape (2, 1)\n",
    "\n",
    "# Store parameters in lists for scalability\n",
    "weights = [W1, W2]\n",
    "biases = [b1, b2]\n",
    "num_layers = len(weights) # L = 2"
   ]
  },
  {
   "cell_type": "markdown",
   "id": "0be80495",
   "metadata": {},
   "source": [
    "### Input + sample target"
   ]
  },
  {
   "cell_type": "code",
   "execution_count": 3,
   "id": "0450b64b",
   "metadata": {},
   "outputs": [],
   "source": [
    "x = np.array([[1.0], [0.5]]) # Shape (2, 1)\n",
    "y = np.array([[0], [1]])     # Shape (2, 1) (one-hot)"
   ]
  },
  {
   "cell_type": "markdown",
   "id": "8ee3b9d5",
   "metadata": {},
   "source": [
    "## Forward pass"
   ]
  },
  {
   "cell_type": "code",
   "execution_count": null,
   "id": "0a957f37",
   "metadata": {},
   "outputs": [],
   "source": [
    "# --- Forward Pass ---\n",
    "activations = [x] # Store activations, a^0 = x\n",
    "pre_activations = [] # Store z^l\n",
    "\n",
    "a = x\n",
    "for l in range(num_layers):\n",
    "    W = weights[l]\n",
    "    b = biases[l]\n",
    "    z = W @ a + b\n",
    "    pre_activations.append(z)\n",
    "    if l < num_layers - 1: # Hidden layers use ReLU\n",
    "        a = relu(z)\n",
    "    else: # Output layer uses Softmax\n",
    "        a = softmax(z)\n",
    "    activations.append(a)"
   ]
  },
  {
   "cell_type": "code",
   "execution_count": 6,
   "id": "099e39e1",
   "metadata": {},
   "outputs": [
    {
     "data": {
      "text/plain": [
       "[array([[1. ],\n",
       "        [0.5]]),\n",
       " array([[0.3],\n",
       "        [0.6],\n",
       "        [0.9]]),\n",
       " array([[0.36818758],\n",
       "        [0.63181242]])]"
      ]
     },
     "execution_count": 6,
     "metadata": {},
     "output_type": "execute_result"
    }
   ],
   "source": [
    "activations"
   ]
  },
  {
   "cell_type": "markdown",
   "id": "b90eaf71",
   "metadata": {},
   "source": [
    "### Output prediction"
   ]
  },
  {
   "cell_type": "code",
   "execution_count": 7,
   "id": "36748308",
   "metadata": {},
   "outputs": [
    {
     "name": "stdout",
     "output_type": "stream",
     "text": [
      "--- Forward Pass ---\n",
      "z^1:\n",
      "[[0.3]\n",
      " [0.6]\n",
      " [0.9]]\n",
      "a^1:\n",
      "[[0.3]\n",
      " [0.6]\n",
      " [0.9]]\n",
      "z^2:\n",
      "[[1.7 ]\n",
      " [2.24]]\n",
      "a^2 (ŷ):\n",
      "[[0.36818758]\n",
      " [0.63181242]]\n"
     ]
    }
   ],
   "source": [
    "y_hat = activations[-1]\n",
    "print(\"--- Forward Pass ---\")\n",
    "print(f\"z^1:\\n{pre_activations[0]}\")\n",
    "print(f\"a^1:\\n{activations[1]}\")\n",
    "print(f\"z^2:\\n{pre_activations[1]}\")\n",
    "print(f\"a^2 (ŷ):\\n{y_hat}\")"
   ]
  },
  {
   "cell_type": "markdown",
   "id": "4a854849",
   "metadata": {},
   "source": [
    "## Backward Pass"
   ]
  },
  {
   "cell_type": "code",
   "execution_count": 9,
   "id": "822e2a6b",
   "metadata": {},
   "outputs": [],
   "source": [
    "gradients_W = [None] * num_layers\n",
    "gradients_b = [None] * num_layers"
   ]
  },
  {
   "cell_type": "code",
   "execution_count": 10,
   "id": "7d4f70d4",
   "metadata": {},
   "outputs": [
    {
     "name": "stdout",
     "output_type": "stream",
     "text": [
      "\n",
      "--- Backward Pass (Gradients) ---\n",
      "dJ/dW^2 (shape (2, 3)):\n",
      "[[ 0.11045627  0.22091255  0.33136882]\n",
      " [-0.11045627 -0.22091255 -0.33136882]]\n",
      "dJ/db^2 (shape (2, 1)):\n",
      "[[ 0.36818758]\n",
      " [-0.36818758]]\n",
      "dJ/dW^1 (shape (3, 2)):\n",
      "[[-0.11045627 -0.05522814]\n",
      " [-0.11045627 -0.05522814]\n",
      " [-0.11045627 -0.05522814]]\n",
      "dJ/db^1 (shape (3, 1)):\n",
      "[[-0.11045627]\n",
      " [-0.11045627]\n",
      " [-0.11045627]]\n"
     ]
    }
   ],
   "source": [
    "# Calculate delta for the output layer (L)\n",
    "# delta_L = dJ/dz^L = y_hat - y\n",
    "delta = y_hat - y # delta^2 for L=2\n",
    "\n",
    "# Gradient for the last layer\n",
    "gradients_W[-1] = delta @ activations[-2].T # dJ/dW^L = delta^L * (a^(L-1))^T\n",
    "gradients_b[-1] = delta                   # dJ/db^L = delta^L\n",
    "\n",
    "# Iterate backwards from L-1 down to 1\n",
    "for l in range(num_layers - 2, -1, -1):\n",
    "    # Propagate delta backwards: delta^l = (W^(l+1)^T @ delta^(l+1)) .* relu'(z^l)\n",
    "    W_next = weights[l+1]\n",
    "    z_current = pre_activations[l]\n",
    "    delta = (W_next.T @ delta) * relu_derivative(z_current)\n",
    "\n",
    "    # Gradient for current layer l\n",
    "    gradients_W[l] = delta @ activations[l].T # dJ/dW^l = delta^l * (a^(l-1))^T (activations[l] is a^l)\n",
    "    gradients_b[l] = delta                  # dJ/db^l = delta^l\n",
    "\n",
    "print(\"\\n--- Backward Pass (Gradients) ---\")\n",
    "print(f\"dJ/dW^2 (shape {gradients_W[1].shape}):\\n{gradients_W[1]}\")\n",
    "print(f\"dJ/db^2 (shape {gradients_b[1].shape}):\\n{gradients_b[1]}\")\n",
    "print(f\"dJ/dW^1 (shape {gradients_W[0].shape}):\\n{gradients_W[0]}\")\n",
    "print(f\"dJ/db^1 (shape {gradients_b[0].shape}):\\n{gradients_b[0]}\")"
   ]
  },
  {
   "cell_type": "code",
   "execution_count": 11,
   "id": "d6f9ff6b",
   "metadata": {},
   "outputs": [
    {
     "ename": "AssertionError",
     "evalue": "",
     "output_type": "error",
     "traceback": [
      "\u001b[1;31m---------------------------------------------------------------------------\u001b[0m",
      "\u001b[1;31mAssertionError\u001b[0m                            Traceback (most recent call last)",
      "Cell \u001b[1;32mIn[11], line 9\u001b[0m\n\u001b[0;32m      1\u001b[0m \u001b[38;5;66;03m# --- Verification (Compare with manual calculation) ---\u001b[39;00m\n\u001b[0;32m      2\u001b[0m \u001b[38;5;66;03m# Manual results (approx):\u001b[39;00m\n\u001b[0;32m      3\u001b[0m \u001b[38;5;66;03m# dJ/dW^2 ≈ [[0.1104, 0.2208, 0.3312], [-0.1104, -0.2208, -0.3312]]\u001b[39;00m\n\u001b[1;32m   (...)\u001b[0m\n\u001b[0;32m      7\u001b[0m \n\u001b[0;32m      8\u001b[0m \u001b[38;5;66;03m# Check if code results match (allowing for floating point differences)\u001b[39;00m\n\u001b[1;32m----> 9\u001b[0m \u001b[38;5;28;01massert\u001b[39;00m np\u001b[38;5;241m.\u001b[39mallclose(gradients_W[\u001b[38;5;241m1\u001b[39m], [[\u001b[38;5;241m0.1104\u001b[39m, \u001b[38;5;241m0.2208\u001b[39m, \u001b[38;5;241m0.3312\u001b[39m], [\u001b[38;5;241m-\u001b[39m\u001b[38;5;241m0.1104\u001b[39m, \u001b[38;5;241m-\u001b[39m\u001b[38;5;241m0.2208\u001b[39m, \u001b[38;5;241m-\u001b[39m\u001b[38;5;241m0.3312\u001b[39m]], atol\u001b[38;5;241m=\u001b[39m\u001b[38;5;241m1e-4\u001b[39m)\n\u001b[0;32m     10\u001b[0m \u001b[38;5;28;01massert\u001b[39;00m np\u001b[38;5;241m.\u001b[39mallclose(gradients_b[\u001b[38;5;241m1\u001b[39m], [[\u001b[38;5;241m0.368\u001b[39m], [\u001b[38;5;241m-\u001b[39m\u001b[38;5;241m0.368\u001b[39m]], atol\u001b[38;5;241m=\u001b[39m\u001b[38;5;241m1e-4\u001b[39m)\n\u001b[0;32m     11\u001b[0m \u001b[38;5;28;01massert\u001b[39;00m np\u001b[38;5;241m.\u001b[39mallclose(gradients_W[\u001b[38;5;241m0\u001b[39m], [[\u001b[38;5;241m-\u001b[39m\u001b[38;5;241m0.1104\u001b[39m, \u001b[38;5;241m-\u001b[39m\u001b[38;5;241m0.0552\u001b[39m], [\u001b[38;5;241m-\u001b[39m\u001b[38;5;241m0.1104\u001b[39m, \u001b[38;5;241m-\u001b[39m\u001b[38;5;241m0.0552\u001b[39m], [\u001b[38;5;241m-\u001b[39m\u001b[38;5;241m0.1104\u001b[39m, \u001b[38;5;241m-\u001b[39m\u001b[38;5;241m0.0552\u001b[39m]], atol\u001b[38;5;241m=\u001b[39m\u001b[38;5;241m1e-4\u001b[39m)\n",
      "\u001b[1;31mAssertionError\u001b[0m: "
     ]
    }
   ],
   "source": [
    "# --- Verification (Compare with manual calculation) ---\n",
    "# Manual results (approx):\n",
    "# dJ/dW^2 ≈ [[0.1104, 0.2208, 0.3312], [-0.1104, -0.2208, -0.3312]]\n",
    "# dJ/db^2 ≈ [0.368, -0.368]^T\n",
    "# dJ/dW^1 ≈ [[-0.1104, -0.0552], [-0.1104, -0.0552], [-0.1104, -0.0552]]\n",
    "# dJ/db^1 ≈ [-0.1104, -0.1104, -0.1104]^T\n",
    "\n",
    "# Check if code results match (allowing for floating point differences)\n",
    "assert np.allclose(gradients_W[1], [[0.1104, 0.2208, 0.3312], [-0.1104, -0.2208, -0.3312]], atol=1e-4)\n",
    "assert np.allclose(gradients_b[1], [[0.368], [-0.368]], atol=1e-4)\n",
    "assert np.allclose(gradients_W[0], [[-0.1104, -0.0552], [-0.1104, -0.0552], [-0.1104, -0.0552]], atol=1e-4)\n",
    "assert np.allclose(gradients_b[0], [[-0.1104], [-0.1104], [-0.1104]], atol=1e-4)"
   ]
  }
 ],
 "metadata": {
  "kernelspec": {
   "display_name": "deep_learning",
   "language": "python",
   "name": "python3"
  },
  "language_info": {
   "codemirror_mode": {
    "name": "ipython",
    "version": 3
   },
   "file_extension": ".py",
   "mimetype": "text/x-python",
   "name": "python",
   "nbconvert_exporter": "python",
   "pygments_lexer": "ipython3",
   "version": "3.9.7"
  }
 },
 "nbformat": 4,
 "nbformat_minor": 5
}
