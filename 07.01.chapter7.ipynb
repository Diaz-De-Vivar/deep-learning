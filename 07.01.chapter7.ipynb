{
 "cells": [
  {
   "cell_type": "code",
   "execution_count": 1,
   "id": "2a94f0e7",
   "metadata": {},
   "outputs": [],
   "source": [
    "import os\n",
    "import numpy as np\n",
    "import matplotlib.pyplot as plt\n",
    "from nnfs.datasets import spiral_data, vertical_data\n",
    "import numpy as np\n",
    "import nnfs\n",
    "import time\n",
    "import torch\n",
    "import torch.nn.functional as F\n",
    "import torch.optim as optim\n",
    "from tools.nets import Layer_Dense\n",
    "\n",
    "nnfs.init()\n",
    "np.random.seed(42)\n",
    "torch.manual_seed(42)\n",
    "torch.backends.cudnn.deterministic = True # For reproducibility\n",
    "torch.backends.cudnn.benchmark = False # Benchmarking disabled for reproducibility\n",
    "torch.cuda.manual_seed(42) # Set seed for GPU if available"
   ]
  },
  {
   "cell_type": "code",
   "execution_count": null,
   "id": "46ae5e8a",
   "metadata": {},
   "outputs": [],
   "source": [
    "torch.backends.cudnn.deterministic = True \n",
    "torch.backends.cudnn.benchmark = False \n",
    "torch.cuda.manual_seed(42) \n",
    "\n",
    "torch.backends.cudnn.enabled = False "
   ]
  }
 ],
 "metadata": {
  "kernelspec": {
   "display_name": "deep_learning",
   "language": "python",
   "name": "python3"
  },
  "language_info": {
   "codemirror_mode": {
    "name": "ipython",
    "version": 3
   },
   "file_extension": ".py",
   "mimetype": "text/x-python",
   "name": "python",
   "nbconvert_exporter": "python",
   "pygments_lexer": "ipython3",
   "version": "3.9.7"
  }
 },
 "nbformat": 4,
 "nbformat_minor": 5
}
