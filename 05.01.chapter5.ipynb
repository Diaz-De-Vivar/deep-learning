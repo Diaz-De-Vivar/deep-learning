{
 "cells": [
  {
   "cell_type": "code",
   "execution_count": null,
   "id": "779828f4",
   "metadata": {},
   "outputs": [],
   "source": [
    "import numpy as np\n",
    "\n",
    "\n",
    "def argmax(iterable):\n",
    "    \"\"\"\n",
    "    Returns the index of the maximum value in the iterable.\n",
    "\n",
    "    Args:\n",
    "        iterable: A sequence of comparable values\n",
    "\n",
    "    Returns:\n",
    "        The index of the maximum value\n",
    "    \"\"\"\n",
    "    # Lambda function to find the index of the maximum value in the iterable\n",
    "    # The lambda function is used to extract the second element of each tuple (the value) for comparison\n",
    "    # and the first element (the index) is returned as the result. The second element is the value of the iterable at that index.\n",
    "    return max(enumerate(iterable), key=lambda x: x[1])[0]\n",
    "\n",
    "def argmax_numpy(iterable):\n",
    "    \"\"\"\n",
    "    Returns the index of the maximum value in the iterable.\n",
    "\n",
    "    Args:\n",
    "        iterable: A sequence of comparable values\n",
    "\n",
    "    Returns:\n",
    "        The index of the maximum value\n",
    "    \"\"\"\n",
    "    # return np.argmax(iterable)\n",
    "    return int(np.argmax(iterable)) # np.argmax returns a numpy int64 type, so convert to int"
   ]
  },
  {
   "cell_type": "code",
   "execution_count": 4,
   "id": "08e9342c",
   "metadata": {},
   "outputs": [
    {
     "data": {
      "text/plain": [
       "(3, 10)"
      ]
     },
     "execution_count": 4,
     "metadata": {},
     "output_type": "execute_result"
    }
   ],
   "source": [
    "max(enumerate((1,2,3,10,4,5)), key=lambda x: x[1])"
   ]
  }
 ],
 "metadata": {
  "kernelspec": {
   "display_name": "deep_learning",
   "language": "python",
   "name": "python3"
  },
  "language_info": {
   "codemirror_mode": {
    "name": "ipython",
    "version": 3
   },
   "file_extension": ".py",
   "mimetype": "text/x-python",
   "name": "python",
   "nbconvert_exporter": "python",
   "pygments_lexer": "ipython3",
   "version": "3.9.7"
  }
 },
 "nbformat": 4,
 "nbformat_minor": 5
}
