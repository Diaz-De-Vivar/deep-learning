{
 "cells": [
  {
   "cell_type": "code",
   "execution_count": 1,
   "id": "779828f4",
   "metadata": {},
   "outputs": [],
   "source": [
    "import os\n",
    "import numpy as np\n",
    "import matplotlib.pyplot as plt\n",
    "from nnfs.datasets import spiral_data\n",
    "import numpy as np\n",
    "import nnfs\n",
    "import time\n",
    "import torch\n",
    "import torch.nn.functional as F\n",
    "\n",
    "np.random.seed(42)\n",
    "nnfs.init()"
   ]
  },
  {
   "cell_type": "markdown",
   "id": "b185ffe1",
   "metadata": {},
   "source": [
    "Argmax"
   ]
  },
  {
   "cell_type": "code",
   "execution_count": 4,
   "id": "08e9342c",
   "metadata": {},
   "outputs": [
    {
     "data": {
      "text/plain": [
       "(3, 10)"
      ]
     },
     "execution_count": 4,
     "metadata": {},
     "output_type": "execute_result"
    }
   ],
   "source": [
    "\n",
    "max(enumerate((1,2,3,10,4,5)), key=lambda x: x[1])"
   ]
  },
  {
   "cell_type": "markdown",
   "id": "bf84ba5e",
   "metadata": {},
   "source": [
    "## Categorical Cross-Entropy"
   ]
  },
  {
   "cell_type": "markdown",
   "id": "237ed346",
   "metadata": {},
   "source": [
    "### Definition"
   ]
  },
  {
   "cell_type": "markdown",
   "id": "13251e1a",
   "metadata": {},
   "source": [
    "$$\n",
    "Loss_i = -\\sum_j y_{i,j} \\log(\\hat{y}_{i,j})\n",
    "$$\n",
    "\n",
    "</br>\n",
    "\n",
    "$$\n",
    "Loss = -\\sum (\\text{true label} \\times \\log(\\text{predicted probability}))\n",
    "$$"
   ]
  },
  {
   "cell_type": "markdown",
   "id": "d6fb1172",
   "metadata": {},
   "source": [
    "#### **Probabilistic Interpretation of Cross-Entropy**\n",
    "\n",
    "Categorical cross-entropy is rooted in **information theory** and **probability theory**. Here’s how:\n",
    "\n",
    "##### **1. Likelihood and Log-Likelihood**\n",
    "\n",
    "- In classification, your model outputs a probability distribution over classes for each input.\n",
    "- The **likelihood** of the true class, given the model’s prediction, is simply the predicted probability assigned to the correct class.\n",
    "- For a dataset, the **likelihood** is the product of these probabilities across all samples.\n",
    "- To make optimization easier (products can become very small), we use the **log-likelihood** (sum of logs instead of product).\n",
    "\n",
    "##### **2. Negative Log-Likelihood**\n",
    "\n",
    "- The **negative log-likelihood** (NLL) is what we minimize during training.\n",
    "- For a single sample, if the true class is \\(j\\), and the predicted probability for class \\(j\\) is \\(\\hat{y}_j\\), the NLL is:\n",
    "  \\[\n",
    "  -\\log(\\hat{y}_j)\n",
    "  \\]\n",
    "- For one-hot encoded labels, this generalizes to:\n",
    "  \\[\n",
    "  -\\sum_j y_j \\log(\\hat{y}_j)\n",
    "  \\]\n",
    "  where \\(y_j\\) is 1 for the true class and 0 otherwise.\n",
    "\n",
    "##### **3. Cross-Entropy as Expected Surprise**\n",
    "\n",
    "- **Cross-entropy** measures the expected number of bits needed to encode the true labels using the predicted probabilities.\n",
    "- Lower cross-entropy means the predicted distribution is closer to the true distribution.\n",
    "- The log term quantifies the \"surprise\" of the model when it sees the true class, given its predicted probability.\n",
    "\n",
    "##### **4. Why Log?**\n",
    "\n",
    "- The log function is used because probabilities multiply across independent events, but logs turn products into sums, which are easier to optimize.\n",
    "- Logarithms also have the property of heavily penalizing low probabilities for the true class, which is desirable for learning.\n",
    "\n",
    "---\n",
    "\n",
    "#### **When is Categorical Cross-Entropy Not Suitable?**\n",
    "\n",
    "Categorical cross-entropy is **not suitable** for all classification tasks. Here are cases where it’s inappropriate:\n",
    "\n",
    "##### **1. Non-Exclusive Classes (Multi-Label Classification)**\n",
    "\n",
    "- **Categorical cross-entropy** assumes each sample belongs to exactly one class (mutually exclusive classes).\n",
    "- If a sample can belong to **multiple classes at once** (multi-label classification), use **binary cross-entropy** (BCE) instead, applied independently to each class.\n",
    "\n",
    "##### **2. Regression Tasks**\n",
    "\n",
    "- Cross-entropy is not suitable for regression (predicting continuous values). Use losses like **mean squared error (MSE)** for regression.\n",
    "\n",
    "##### **3. Unnormalized Outputs**\n",
    "\n",
    "- Categorical cross-entropy expects the model outputs to be **probabilities** (i.e., non-negative and sum to 1, usually via softmax).\n",
    "- If your model outputs are not normalized, you must apply softmax before using this loss.\n",
    "\n",
    "##### **4. Ordinal Classification**\n",
    "\n",
    "- If your classes have a natural order (ordinal data), specialized losses or regression approaches may be more appropriate.\n",
    "\n",
    "---\n",
    "\n",
    "#### **Summary Table**\n",
    "\n",
    "| Task Type                        | Suitable Loss Function                |\n",
    "|-----------------------------------|---------------------------------------|\n",
    "| Single-label, multi-class         | Categorical cross-entropy             |\n",
    "| Multi-label (multiple classes per sample) | Binary cross-entropy (BCE)    |\n",
    "| Regression (continuous output)    | Mean squared error (MSE), etc.        |\n",
    "| Ordinal classification            | Ordinal regression or specialized loss|\n",
    "\n",
    "---\n",
    "\n",
    "**In summary:**\n",
    "Categorical cross-entropy is a probabilistically principled loss for single-label, multi-class classification, measuring how well the predicted probability distribution matches the true distribution. It is not suitable for multi-label, regression, or ordinal tasks."
   ]
  },
  {
   "cell_type": "markdown",
   "id": "aa62c966",
   "metadata": {},
   "source": [
    "**Implications of Returning Per-Sample Loss**\n",
    "- Granularity: You get the loss for each sample, which is useful for analysis, debugging, or custom loss aggregation (e.g., weighted losses).\n",
    "- Training: Most deep learning frameworks expect a scalar loss for backpropagation. If you return per-sample losses, you’ll need to aggregate them (e.g., with .mean() or .sum()) before calling .backward().\n",
    "- Flexibility: Returning per-sample loss gives you more control, but you must remember to aggregate when needed.\n",
    "\n",
    "**Summary Table**\n",
    "|Return Value|\tShape|\tTypical Use Case|\n",
    "|------------|--------|------------------|\n",
    "|Mean loss (scalar)|\t()|\tStandard training/backpropagation|\n",
    "|Per-sample loss|\t(batch_size,)|\tAnalysis, custom aggregation, debugging|"
   ]
  },
  {
   "cell_type": "markdown",
   "id": "d89ae8b9",
   "metadata": {},
   "source": [
    "### Code implementations"
   ]
  },
  {
   "cell_type": "markdown",
   "id": "3e7bb555",
   "metadata": {},
   "source": [
    "#### Numpy cross-entropy"
   ]
  },
  {
   "cell_type": "code",
   "execution_count": 52,
   "id": "a6e54f94",
   "metadata": {},
   "outputs": [],
   "source": [
    "def categorical_cross_entropy_numpy(y_pred, y_true, epsilon = 1e-15, verbose = False):\n",
    "    \"\"\"\n",
    "    Computes the categorical cross-entropy loss.\n",
    "\n",
    "    Parameters:\n",
    "        y_true: numpy array of shape (n_samples, n_classes), one-hot encoded true labels\n",
    "        y_pred: numpy array of shape (n_samples, n_classes), predicted probabilities\n",
    "        epsilon: small value to avoid log(0)\n",
    "\n",
    "    Returns:\n",
    "        loss: scalar, mean categorical cross-entropy loss\n",
    "    \"\"\"   \n",
    "    # Clip predictions to prevent log(0)\n",
    "    y_pred_clipped = np.clip(y_pred, epsilon, 1 - epsilon)\n",
    "    loss = -np.sum(y_true * np.log(y_pred_clipped), axis=1, keepdims=True)\n",
    "    output = np.mean(loss)\n",
    "    if verbose:\n",
    "        print(\"y_pred:\", y_pred)\n",
    "        print(\"\\ny_pred_clipped:\", y_pred_clipped)\n",
    "        print(\"\\ny_true:\", y_true)\n",
    "        print(\"\\nlog clipped:\", np.log(y_pred_clipped))\n",
    "        print(\"\\nSum Loss: \", loss)\n",
    "        print(\"\\nLoss Output Numpy: \", output)\n",
    "\n",
    "    \n",
    "    # Calculate loss\n",
    "    return output\n",
    "    # return np.mean(loss, axis=0)[0]"
   ]
  },
  {
   "cell_type": "markdown",
   "id": "4741e552",
   "metadata": {},
   "source": [
    "#### Torch cross-entropy"
   ]
  },
  {
   "cell_type": "code",
   "execution_count": 51,
   "id": "e7b7ecbd",
   "metadata": {},
   "outputs": [],
   "source": [
    "def categorical_cross_entropy_torch(y_pred, y_true, verbose=False, epsilon=1e-15):\n",
    "    \"\"\"\n",
    "    Computes the categorical cross-entropy loss.\n",
    "\n",
    "    Parameters:\n",
    "        y_true: torch tensor of shape (n_samples, n_classes), one-hot encoded true labels\n",
    "        y_pred: torch tensor of shape (n_samples, n_classes), predicted probabilities\n",
    "        verbose: bool, if True prints intermediate values\n",
    "        epsilon: small value to avoid log(0)\n",
    "\n",
    "    Returns:\n",
    "        loss: scalar, mean categorical cross-entropy loss\n",
    "    \"\"\"\n",
    "    # Clip predictions to avoid log(0)\n",
    "    y_pred_clipped = torch.clamp(y_pred, epsilon, 1. - epsilon)\n",
    "        \n",
    "    # Compute cross-entropy\n",
    "    log_preds = torch.log(y_pred_clipped)        \n",
    "    elementwise_loss = -y_true * log_preds        \n",
    "    sample_loss = torch.sum(elementwise_loss, dim=1)        \n",
    "    mean_loss = torch.mean(sample_loss)\n",
    "        \n",
    "    if verbose:\n",
    "        print(\"y_pred:\", y_pred)\n",
    "        print(\"Clipped predictions:\\n\", y_pred_clipped)\n",
    "        print(\"Log of predictions:\\n\", log_preds)\n",
    "        print(\"Elementwise loss:\\n\", elementwise_loss)\n",
    "        print(\"Sample-wise loss:\\n\", sample_loss)\n",
    "        print(\"Mean loss Torch (output):\", mean_loss.item())\n",
    "    \n",
    "    return mean_loss"
   ]
  },
  {
   "cell_type": "markdown",
   "id": "7ee7127e",
   "metadata": {},
   "source": [
    "#### Tests"
   ]
  },
  {
   "cell_type": "code",
   "execution_count": null,
   "id": "b10cad25",
   "metadata": {},
   "outputs": [],
   "source": [
    "# Create sample data\n",
    "batch_size = 3 # Number of samples in the batch\n",
    "num_classes = 4 # (0, 1, 2, 3)"
   ]
  },
  {
   "cell_type": "markdown",
   "id": "b4279458",
   "metadata": {},
   "source": [
    "Numpy test"
   ]
  },
  {
   "cell_type": "code",
   "execution_count": 44,
   "id": "7f6d4491",
   "metadata": {},
   "outputs": [
    {
     "name": "stdout",
     "output_type": "stream",
     "text": [
      "Suma (check): [1. 1. 1.]\n",
      "\n",
      "Real:\n",
      " [[1. 0. 0. 0.]\n",
      " [0. 0. 1. 0.]\n",
      " [0. 1. 0. 0.]]\n",
      "\n",
      "Probabilidades de las predicciones:\n",
      " [[0.5   0.45  0.025 0.025]\n",
      " [0.1   0.2   0.7   0.   ]\n",
      " [0.01  0.96  0.005 0.025]]\n"
     ]
    }
   ],
   "source": [
    "y_true = np.zeros((batch_size, num_classes))\n",
    "y_true[0, 0] = 1    # Class 0\n",
    "y_true[1, 2] = 1    # Class 2\n",
    "y_true[2, 1] = 1    # Class 1\n",
    "y_pred = np.array([[0.5, 0.45, 0.025, 0.025], # Class 0\n",
    "                   [0.1, 0.2, 0.7, 0], # Class 2\n",
    "                   [0.01, 0.96, 0.005, 0.025]]) # Class 1\n",
    "\n",
    "print('Suma (check):', np.sum(y_pred, axis=1)) # Check that the sum is 1\n",
    "print('\\nReal:\\n', y_true)\n",
    "print('\\nProbabilidades de las predicciones:\\n', y_pred)"
   ]
  },
  {
   "cell_type": "code",
   "execution_count": null,
   "id": "65c30a77",
   "metadata": {},
   "outputs": [
    {
     "name": "stdout",
     "output_type": "stream",
     "text": [
      "y_pred: [[0.5   0.45  0.025 0.025]\n",
      " [0.1   0.2   0.7   0.   ]\n",
      " [0.01  0.96  0.005 0.025]]\n",
      "\n",
      "y_pred_clipped: [[5.0e-01 4.5e-01 2.5e-02 2.5e-02]\n",
      " [1.0e-01 2.0e-01 7.0e-01 1.0e-15]\n",
      " [1.0e-02 9.6e-01 5.0e-03 2.5e-02]]\n",
      "\n",
      "y_true: [[1. 0. 0. 0.]\n",
      " [0. 0. 1. 0.]\n",
      " [0. 1. 0. 0.]]\n",
      "\n",
      "log clipped: [[ -0.69314718  -0.7985077   -3.68887945  -3.68887945]\n",
      " [ -2.30258509  -1.60943791  -0.35667494 -34.53877639]\n",
      " [ -4.60517019  -0.04082199  -5.29831737  -3.68887945]]\n",
      "\n",
      "Sum Loss:  [[0.69314718]\n",
      " [0.35667494]\n",
      " [0.04082199]]\n",
      "\n",
      "Loss Output:  0.3635480396729777\n"
     ]
    }
   ],
   "source": [
    "output_loss = categorical_cross_entropy_numpy(y_pred, y_true, verbose=True) # Numpy version"
   ]
  },
  {
   "cell_type": "markdown",
   "id": "4505a330",
   "metadata": {},
   "source": [
    "Torch test"
   ]
  },
  {
   "cell_type": "code",
   "execution_count": 46,
   "id": "3824ccf2",
   "metadata": {},
   "outputs": [],
   "source": [
    "y_true = torch.zeros((batch_size, num_classes))\n",
    "y_true[0, 0] = 1    # Class 0\n",
    "y_true[1, 2] = 1    # Class 2\n",
    "y_true[2, 1] = 1    # Class 1\n",
    "y_pred = torch.tensor([[0.5, 0.45, 0.025, 0.025], # Class 0\n",
    "                   [0.1, 0.2, 0.7, 0], # Class 2\n",
    "                   [0.01, 0.96, 0.005, 0.025]]) # Class 1"
   ]
  },
  {
   "cell_type": "code",
   "execution_count": 50,
   "id": "5b2e02a6",
   "metadata": {},
   "outputs": [
    {
     "name": "stdout",
     "output_type": "stream",
     "text": [
      "y_pred: tensor([[0.5000, 0.4500, 0.0250, 0.0250],\n",
      "        [0.1000, 0.2000, 0.7000, 0.0000],\n",
      "        [0.0100, 0.9600, 0.0050, 0.0250]])\n",
      "Clipped predictions:\n",
      " tensor([[5.0000e-01, 4.5000e-01, 2.5000e-02, 2.5000e-02],\n",
      "        [1.0000e-01, 2.0000e-01, 7.0000e-01, 1.0000e-15],\n",
      "        [1.0000e-02, 9.6000e-01, 5.0000e-03, 2.5000e-02]])\n",
      "Log of predictions:\n",
      " tensor([[ -0.6931,  -0.7985,  -3.6889,  -3.6889],\n",
      "        [ -2.3026,  -1.6094,  -0.3567, -34.5388],\n",
      "        [ -4.6052,  -0.0408,  -5.2983,  -3.6889]])\n",
      "Elementwise loss:\n",
      " tensor([[0.6931, 0.0000, 0.0000, 0.0000],\n",
      "        [0.0000, 0.0000, 0.3567, 0.0000],\n",
      "        [0.0000, 0.0408, 0.0000, 0.0000]])\n",
      "Sample-wise loss:\n",
      " tensor([0.6931, 0.3567, 0.0408])\n",
      "Mean loss (output): 0.36354804039001465\n"
     ]
    }
   ],
   "source": [
    "output_loss = categorical_cross_entropy_torch(y_pred, y_true, verbose=True) # Torch version"
   ]
  },
  {
   "attachments": {
    "image.png": {
     "image/png": "[encoded data removed]"
    }
   },
   "cell_type": "markdown",
   "id": "e32e10a8",
   "metadata": {},
   "source": [
    "![image.png](attachment:image.png)"
   ]
  },
  {
   "cell_type": "code",
   "execution_count": null,
   "id": "64e6b2e6",
   "metadata": {},
   "outputs": [
    {
     "name": "stdout",
     "output_type": "stream",
     "text": [
      "[ 3  5  8 10 10]\n"
     ]
    }
   ],
   "source": [
    "arr = np.array([1, 5, 8, 10, 15])\n",
    "clipped = np.clip(arr, 3, 10)\n",
    "print(clipped)"
   ]
  },
  {
   "cell_type": "markdown",
   "id": "d461c104",
   "metadata": {},
   "source": [
    "A medida que las dimensiones de los inputs escalen, la media se podrá mantener en rangos de valores buenos mientras que la suma corre el riesgo de acabar produciendo buffer overflow"
   ]
  },
  {
   "cell_type": "markdown",
   "id": "34b7f5f2",
   "metadata": {},
   "source": [
    "Test_use. Numpy"
   ]
  },
  {
   "cell_type": "code",
   "execution_count": 40,
   "id": "2d179c88",
   "metadata": {},
   "outputs": [
    {
     "name": "stdout",
     "output_type": "stream",
     "text": [
      "[[17.2693882 ]\n",
      " [10.36163292]\n",
      " [ 1.38155106]]\n"
     ]
    }
   ],
   "source": [
    "# Categorical cross-entropy loss function\n",
    "def categorical_cross_entropy_torch_numpy(y_pred, y_true, epsilon = 1e-15):\n",
    "    # Clip predictions to prevent log(0)\n",
    "    y_pred_clipped = np.clip(y_pred, epsilon, 1 - epsilon)\n",
    "    # Calculate loss\n",
    "    return -np.sum(y_true * np.log(y_pred_clipped), axis=1, keepdims=True)\n",
    "\n",
    "# Calculate loss\n",
    "loss = categorical_cross_entropy_torch_numpy(y_true, y_pred)\n",
    "print(loss)\n",
    "# print(f\"Categorical Cross-Entropy Loss: {loss.item()}\")"
   ]
  },
  {
   "cell_type": "markdown",
   "id": "b1c59bc9",
   "metadata": {},
   "source": [
    "La loss-function es proporcional a como de lejos está el valor correcto del valor real"
   ]
  },
  {
   "cell_type": "markdown",
   "id": "c8275692",
   "metadata": {},
   "source": [
    "Returning the mean loss is generally better for most training scenarios because:\n",
    "\n",
    "1. Scale invariance: Mean loss normalizes by batch size, making the loss value consistent regardless of batch size, which helps maintain stable learning rates.\n",
    "2. Gradient scaling: When using mean loss, gradients aren't artificially inflated by larger batch sizes, leading to more consistent optimization.\n",
    "3. Comparability: Mean loss allows you to compare performance across different batch sizes and datasets.\n",
    "4. Standard practice: Most deep learning frameworks (PyTorch, TensorFlow) use mean reduction by default for their loss functions.\n",
    "\n",
    "However, if you need to weight samples differently or implement custom reduction logic, you might want to return the unreduced loss (before taking the mean) and handle reduction separately."
   ]
  },
  {
   "cell_type": "code",
   "execution_count": 15,
   "id": "7f644600",
   "metadata": {},
   "outputs": [
    {
     "name": "stdout",
     "output_type": "stream",
     "text": [
      "Suma (check): tensor([[1.0000],\n",
      "        [1.0000],\n",
      "        [1.0000]])\n",
      "\n",
      "Real:\n",
      " tensor([[0., 1., 0., 0.],\n",
      "        [1., 0., 0., 0.],\n",
      "        [0., 0., 1., 0.]])\n",
      "\n",
      "Predicciones:\n",
      " tensor([[0.5000, 0.4500, 0.0250, 0.0250],\n",
      "        [0.7000, 0.1000, 0.2000, 0.0000],\n",
      "        [0.0100, 0.0050, 0.9600, 0.0250]])\n",
      "\n",
      "PyTorch's Cross-Entropy Loss: 0.39866816997528076\n",
      "PyTorch's Cross-Entropy Loss: 0.39866816997528076\n"
     ]
    }
   ],
   "source": [
    "batch_size = 3 # Number of samples in the batch\n",
    "num_classes = 4 # (0, 1, 2, 3)\n",
    "\n",
    "# One-hot encoded ground truth\n",
    "y_true = torch.zeros(batch_size, num_classes)\n",
    "y_true[0, 1] = 1.0  # First sample belongs to class 1\n",
    "y_true[1, 0] = 1.0  # Second sample belongs to class 0\n",
    "y_true[2, 2] = 1.0  # Third sample belongs to class 2\n",
    "\n",
    "# Predicted probabilities (output from softmax)\n",
    "y_pred = torch.tensor([[0.5, 0.45, 0.025, 0.025], # Prediction for first sample. Class 1 probability is 0.45\n",
    "                   [0.7, 0.1, 0.2, 0], # Prediction for second sample. Class 0 probability is 0.7\n",
    "                   [0.01, 0.005, 0.96, 0.025]]) # Prediction for third sample. Class 2 probability is 0.96\n",
    "\n",
    "print('Suma (check):', torch.sum(y_pred, dim=1, keepdim=True)) # Check that the sum is 1\n",
    "print('\\nReal:\\n', y_true)\n",
    "print('\\nPredicciones:\\n', y_pred)\n",
    "\n",
    "# Categorical cross-entropy loss function\n",
    "def categorical_cross_entropy_torch(y_pred, y_true, epsilon=1e-15):\n",
    "    # Clip predictions to prevent log(0)\n",
    "    y_pred_clipped = torch.clamp(y_pred, epsilon, 1 - epsilon)\n",
    "    # Calculate loss\n",
    "    # Note: PyTorch's log function is already element-wise and handles broadcasting, so we can directly use it\n",
    "    loss = -torch.sum(y_true * torch.log(y_pred_clipped), dim=1, keepdim=True)\n",
    "    return loss\n",
    "\n",
    "\n",
    "# Compare with PyTorch's built-in function\n",
    "# For torch.nn.functional.cross_entropy, we need class indices, not one-hot\n",
    "targets = torch.tensor([1,0,2])  # Class indices\n",
    "# Note: F.cross_entropy expects raw logits, not softmax probabilities\n",
    "# For demonstration, we'll convert probabilities back to approximate logits\n",
    "logits = torch.log(y_pred)\n",
    "pytorch_loss = F.cross_entropy(logits, targets)\n",
    "print(f\"\\nPyTorch's Cross-Entropy Loss: {pytorch_loss}\")\n",
    "print(f\"PyTorch's Cross-Entropy Loss: {pytorch_loss.item()}\")"
   ]
  }
 ],
 "metadata": {
  "kernelspec": {
   "display_name": "deep_learning",
   "language": "python",
   "name": "python3"
  },
  "language_info": {
   "codemirror_mode": {
    "name": "ipython",
    "version": 3
   },
   "file_extension": ".py",
   "mimetype": "text/x-python",
   "name": "python",
   "nbconvert_exporter": "python",
   "pygments_lexer": "ipython3",
   "version": "3.9.7"
  }
 },
 "nbformat": 4,
 "nbformat_minor": 5
}
