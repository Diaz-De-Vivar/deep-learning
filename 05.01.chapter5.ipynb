{
 "cells": [
  {
   "cell_type": "code",
   "execution_count": 6,
   "id": "779828f4",
   "metadata": {},
   "outputs": [],
   "source": [
    "import os\n",
    "import numpy as np\n",
    "import matplotlib.pyplot as plt\n",
    "from nnfs.datasets import spiral_data\n",
    "import numpy as np\n",
    "import nnfs\n",
    "import time\n",
    "import torch\n",
    "import torch.nn.functional as F\n",
    "\n",
    "np.random.seed(42)\n",
    "nnfs.init()"
   ]
  },
  {
   "cell_type": "markdown",
   "id": "791c5ae8",
   "metadata": {},
   "source": [
    "Categorical cross-entropy loss function"
   ]
  },
  {
   "cell_type": "code",
   "execution_count": 4,
   "id": "08e9342c",
   "metadata": {},
   "outputs": [
    {
     "data": {
      "text/plain": [
       "(3, 10)"
      ]
     },
     "execution_count": 4,
     "metadata": {},
     "output_type": "execute_result"
    }
   ],
   "source": [
    "max(enumerate((1,2,3,10,4,5)), key=lambda x: x[1])"
   ]
  },
  {
   "cell_type": "code",
   "execution_count": 7,
   "id": "7f644600",
   "metadata": {},
   "outputs": [
    {
     "name": "stdout",
     "output_type": "stream",
     "text": [
      "Categorical Cross-Entropy Loss: 0.42432188987731934\n",
      "PyTorch's Cross-Entropy Loss: 0.42432186007499695\n"
     ]
    }
   ],
   "source": [
    "def categorical_cross_entropy(y_true, y_pred):\n",
    "    \"\"\"\n",
    "    Calculate categorical cross-entropy loss\n",
    "    \n",
    "    Args:\n",
    "        y_true: Ground truth probabilities or one-hot encoded labels\n",
    "        y_pred: Predicted probabilities from softmax\n",
    "        \n",
    "    Returns:\n",
    "        Loss value\n",
    "    \"\"\"\n",
    "    # Ensure numerical stability by adding a small epsilon to prevent log(0)\n",
    "    epsilon = 1e-15\n",
    "    y_pred = torch.clamp(y_pred, epsilon, 1 - epsilon)\n",
    "    \n",
    "    # Calculate cross-entropy loss\n",
    "    loss = -torch.sum(y_true * torch.log(y_pred), dim=1)\n",
    "    \n",
    "    # Return mean loss across all samples\n",
    "    return torch.mean(loss)\n",
    "\n",
    "# Example usage\n",
    "# Create sample data\n",
    "batch_size = 3\n",
    "num_classes = 4\n",
    "\n",
    "# One-hot encoded ground truth\n",
    "y_true = torch.zeros(batch_size, num_classes)\n",
    "y_true[0, 1] = 1.0  # First sample belongs to class 1\n",
    "y_true[1, 0] = 1.0  # Second sample belongs to class 0\n",
    "y_true[2, 2] = 1.0  # Third sample belongs to class 2\n",
    "\n",
    "# Predicted probabilities (output from softmax)\n",
    "y_pred = torch.tensor([\n",
    "    [0.1, 0.7, 0.1, 0.1],  # Prediction for first sample\n",
    "    [0.8, 0.1, 0.05, 0.05], # Prediction for second sample\n",
    "    [0.2, 0.2, 0.5, 0.1]   # Prediction for third sample\n",
    "])\n",
    "\n",
    "# Calculate loss\n",
    "loss = categorical_cross_entropy(y_true, y_pred)\n",
    "print(f\"Categorical Cross-Entropy Loss: {loss.item()}\")\n",
    "\n",
    "# Compare with PyTorch's built-in function\n",
    "# For torch.nn.functional.cross_entropy, we need class indices, not one-hot\n",
    "targets = torch.tensor([1, 0, 2])  # Class indices\n",
    "# Note: F.cross_entropy expects raw logits, not softmax probabilities\n",
    "# For demonstration, we'll convert probabilities back to approximate logits\n",
    "logits = torch.log(y_pred)\n",
    "pytorch_loss = F.cross_entropy(logits, targets)\n",
    "print(f\"PyTorch's Cross-Entropy Loss: {pytorch_loss.item()}\")"
   ]
  }
 ],
 "metadata": {
  "kernelspec": {
   "display_name": "deep_learning",
   "language": "python",
   "name": "python3"
  },
  "language_info": {
   "codemirror_mode": {
    "name": "ipython",
    "version": 3
   },
   "file_extension": ".py",
   "mimetype": "text/x-python",
   "name": "python",
   "nbconvert_exporter": "python",
   "pygments_lexer": "ipython3",
   "version": "3.9.7"
  }
 },
 "nbformat": 4,
 "nbformat_minor": 5
}
