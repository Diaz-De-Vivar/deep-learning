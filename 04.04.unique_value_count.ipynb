{
 "cells": [
  {
   "cell_type": "code",
   "execution_count": 2,
   "id": "eafed44a",
   "metadata": {},
   "outputs": [
    {
     "name": "stdout",
     "output_type": "stream",
     "text": [
      "<class 'numpy.ndarray'> <class 'numpy.ndarray'> float32 uint8 (300, 2) (300,)\n",
      "Array shape: (300,)\n",
      "Unique values: [0 1 2]\n",
      "Counts: [100 100 100]\n",
      "Count dictionary: {0: 100, 1: 100, 2: 100}\n",
      "\n",
      "2d Array: [[1 2]\n",
      " [2 3]\n",
      " [1 2]]\n",
      "\n",
      "Eje 0:\n",
      "Unique rows: [[1 2]\n",
      " [2 3]]\n",
      "Row counts: [2 1]\n",
      "\n",
      "Eje 1:\n",
      "Unique rows: [[1 2]\n",
      " [2 3]\n",
      " [1 2]]\n",
      "Row counts: [1 1]\n"
     ]
    }
   ],
   "source": [
    "# Basic counting of unique values\n",
    "from nnfs.datasets import spiral_data\n",
    "import numpy as np\n",
    "import nnfs\n",
    "\n",
    "np.random.seed(42)\n",
    "nnfs.init()\n",
    "\n",
    "\n",
    "# Load dataset\n",
    "X, y = spiral_data(samples=100, classes=3)\n",
    "print(type(X), type(y), X.dtype, y.dtype, X.shape, y.shape)\n",
    "\n",
    "# Sample array\n",
    "arr = np.array(y)\n",
    "\n",
    "# Get unique values and their counts\n",
    "unique_values, counts = np.unique(arr, return_counts=True)\n",
    "\n",
    "# Create dictionary of value-count pairs\n",
    "count_dict = dict(zip(unique_values, counts))\n",
    "\n",
    "print('Array shape:', y.shape)\n",
    "print(\"Unique values:\", unique_values)\n",
    "print(\"Counts:\", counts)\n",
    "print(\"Count dictionary:\", count_dict)\n",
    "\n",
    "# For multi-dimensional arrays, you can specify axis\n",
    "arr_2d = np.array([[1, 2], [2, 3], [1, 2]])\n",
    "unique_rows, row_counts = np.unique(arr_2d, axis=0, return_counts=True)\n",
    "\n",
    "print('\\n2d Array:', arr_2d)\n",
    "\n",
    "print('\\nEje 0:')\n",
    "print(\"Unique rows:\", unique_rows)\n",
    "print(\"Row counts:\", row_counts)\n",
    "\n",
    "unique_rows, row_counts = np.unique(arr_2d, axis=1, return_counts=True)\n",
    "\n",
    "print('\\nEje 1:')\n",
    "print(\"Unique rows:\", unique_rows)\n",
    "print(\"Row counts:\", row_counts)"
   ]
  }
 ],
 "metadata": {
  "kernelspec": {
   "display_name": "deep_learning",
   "language": "python",
   "name": "python3"
  },
  "language_info": {
   "codemirror_mode": {
    "name": "ipython",
    "version": 3
   },
   "file_extension": ".py",
   "mimetype": "text/x-python",
   "name": "python",
   "nbconvert_exporter": "python",
   "pygments_lexer": "ipython3",
   "version": "3.9.7"
  }
 },
 "nbformat": 4,
 "nbformat_minor": 5
}
